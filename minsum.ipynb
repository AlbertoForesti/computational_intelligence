{
 "cells": [
  {
   "cell_type": "code",
   "execution_count": 53,
   "metadata": {},
   "outputs": [],
   "source": [
    "from search import BaseState\n",
    "from typing import Optional\n",
    "\n",
    "class State(BaseState):\n",
    "\n",
    "    @staticmethod\n",
    "    def get_start_state(universe: list[int], total: int) -> 'State':\n",
    "        collection: tuple[bool] = tuple([False for i in range(len(universe))])\n",
    "        return State(total, universe, collection)\n",
    "    \n",
    "    @property\n",
    "    def collection(self):\n",
    "        return self._collection\n",
    "    \n",
    "    @collection.setter\n",
    "    def collection(self, collection):\n",
    "        if not isinstance(collection, tuple):\n",
    "            raise TypeError(f'Expected {tuple[bool]} but got {type(collection)}')\n",
    "        self._collection = collection\n",
    "    \n",
    "\n",
    "    def __init__(self, total: int, universe: list[int], collection: tuple[bool], parent: Optional['State'] = None, level: int = 0) -> None:\n",
    "        self.parent: Optional['State'] = parent\n",
    "        self.universe: list[int] = universe\n",
    "        self.collection: tuple[bool] = collection\n",
    "        self.level: int = level\n",
    "        self.total: int = total\n",
    "    \n",
    "    def __hash__(self) -> int:\n",
    "        return hash(self.collection)\n",
    "\n",
    "    def __repr__(self) -> str:\n",
    "        return str(self.collection)\n",
    "    \n",
    "    def explore(self) -> list['State']:\n",
    "        children: list['State'] = []\n",
    "        new_collection: list[bool] = list(self.collection)\n",
    "        for i in range(self.level, len(self.collection)):\n",
    "            new_collection[i] = True\n",
    "            children.append(State(self.total, self.universe, tuple(new_collection), self, self.level+1))\n",
    "            new_collection[i] = False\n",
    "        return children\n",
    "\n",
    "def f_evaluate(s1: State, s2: State) -> bool:\n",
    "\n",
    "    length_collection1 : int = len([a for a in s1.collection if a])\n",
    "    length_collection2 : int = len([a for a in s2.collection if a])\n",
    "\n",
    "    return length_collection1 >= length_collection2\n",
    "\n",
    "def f_goal(s: State) -> bool:\n",
    "    summation = 0\n",
    "    for i, el in enumerate(s.universe):\n",
    "        if s.collection[i]:\n",
    "            summation += el\n",
    "    return summation == s.total\n"
   ]
  },
  {
   "cell_type": "code",
   "execution_count": 54,
   "metadata": {},
   "outputs": [
    {
     "name": "stdout",
     "output_type": "stream",
     "text": [
      "Time for tree search 0.017983436584472656\n",
      "Time for graph search 0.007913827896118164\n"
     ]
    }
   ],
   "source": [
    "from search import TreeSearch\n",
    "from search import GraphSearch\n",
    "import time\n",
    "import numpy as np\n",
    "\n",
    "ts = TreeSearch()\n",
    "gs = GraphSearch()\n",
    "\n",
    "universe = list(np.random.randint(1, 3, 5))\n",
    "total = 2\n",
    "\n",
    "t1 = time.time()\n",
    "ts.best_search(State.get_start_state(universe, total), f_evaluate, f_goal)\n",
    "t2 = time.time()\n",
    "print(f'Time for tree search {t2-t1}')\n",
    "\n",
    "t1 = time.time()\n",
    "gs.best_search(State.get_start_state(universe, total), f_evaluate, f_goal)\n",
    "t2 = time.time()\n",
    "print(f'Time for graph search {t2-t1}')"
   ]
  }
 ],
 "metadata": {
  "kernelspec": {
   "display_name": "Python 3",
   "language": "python",
   "name": "python3"
  },
  "language_info": {
   "codemirror_mode": {
    "name": "ipython",
    "version": 3
   },
   "file_extension": ".py",
   "mimetype": "text/x-python",
   "name": "python",
   "nbconvert_exporter": "python",
   "pygments_lexer": "ipython3",
   "version": "3.10.5"
  }
 },
 "nbformat": 4,
 "nbformat_minor": 2
}
