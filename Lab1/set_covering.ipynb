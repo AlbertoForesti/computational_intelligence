{
 "cells": [
  {
   "cell_type": "markdown",
   "metadata": {},
   "source": [
    "In this notebook, we try to find a solution to the set covering problem"
   ]
  },
  {
   "cell_type": "markdown",
   "metadata": {},
   "source": [
    "Given a set of elements called the universe $U$ and a collection of subets of $U$ that we call $S = \\{s_1, ..., s_n\\} \\subseteq 2^U$, such that:\n",
    "\\begin{equation*}\n",
    "\\bigcup_{i=1}^m s_i = U\n",
    "\\end{equation*}\n",
    "The set covering problem consists on finding the collection $C^*$ composed by the minimum elements of $S$ such that it covers all the elements of $U$."
   ]
  },
  {
   "cell_type": "markdown",
   "metadata": {},
   "source": [
    "Here we model the set covering problem as a search problem, in particular we denote a generic state by $\\sigma$, this state is characterised by a collection of subsets $C_\\sigma \\subseteq S$. In the following snippet of code we implement states using a Python class."
   ]
  },
  {
   "cell_type": "code",
   "execution_count": 18,
   "metadata": {},
   "outputs": [],
   "source": [
    "from search import BaseState\n",
    "from typing import Optional, Hashable\n",
    "\n",
    "class State(BaseState):\n",
    "\n",
    "    @staticmethod\n",
    "    def get_start_state(universe: set[Hashable], subsets: list[set[Hashable]]) -> 'State':\n",
    "        collection: tuple[bool] = tuple([False for i in range(len(subsets))])\n",
    "        return State(universe, subsets, collection, 0)\n",
    "\n",
    "    def __init__(self, universe: set[Hashable], subsets: list[set[Hashable]], collection: tuple[bool], priority: float = 0, parent: Optional['State'] = None, level: int = 0) -> None:\n",
    "        self.parent: Optional['State'] = parent\n",
    "        self.subsets: list[set[Hashable]] = subsets\n",
    "        self.universe: set[Hashable] = universe\n",
    "        self.level: int = level\n",
    "        super().__init__(collection, priority)\n",
    "    \n",
    "    def __repr__(self) -> str:\n",
    "        ret: list[set[int]] = []\n",
    "        for i, el in enumerate(self.collection):\n",
    "            if el:\n",
    "                ret.append(self.subsets[i])\n",
    "        return str(ret)\n",
    "    \n",
    "    @property\n",
    "    def complete_path(self) -> str:\n",
    "        tmp: Optional[State] = self\n",
    "        path: str = ''\n",
    "        i: int = 0\n",
    "        while tmp is not None:\n",
    "            if i == 0:\n",
    "                path = str(tmp)\n",
    "                i = 1\n",
    "            else:\n",
    "                path = path + ' <---- ' + str(tmp)\n",
    "            tmp = tmp.parent\n",
    "        return path\n",
    "\n",
    "    \n",
    "    @property\n",
    "    def collection(self):\n",
    "        return self.state_identifier\n",
    "    \n",
    "    @collection.setter\n",
    "    def collection(self, collection):\n",
    "        self.state_identifier = collection\n",
    "    \n",
    "    def __len__(self) -> int:\n",
    "        try:\n",
    "            return len([i for i in self.collection if i])\n",
    "        except:\n",
    "            raise TypeError(f'Collection not valid')\n",
    "    \n",
    "    def explore(self) -> list['State']:\n",
    "        children: list['State'] = []\n",
    "        new_collection: list[bool] = list(self.collection)\n",
    "        for i in range(self.level, len(self.collection)):\n",
    "            if not new_collection[i]:\n",
    "                new_collection[i] = True\n",
    "                children.append(State(self.universe, self.subsets, tuple(new_collection), parent=self, level=self.level+1))\n",
    "                new_collection[i] = False\n",
    "        return children"
   ]
  },
  {
   "cell_type": "markdown",
   "metadata": {},
   "source": [
    "In order to understand whether a state is better than another we simply count the number of subsets of the state."
   ]
  },
  {
   "cell_type": "code",
   "execution_count": 19,
   "metadata": {},
   "outputs": [],
   "source": [
    "def f_evaluate(s1: State, s2: State) -> bool:\n",
    "\n",
    "    length_collection1 : int = len([a for a in s1.collection if a])\n",
    "    length_collection2 : int = len([a for a in s2.collection if a])\n",
    "\n",
    "    return length_collection1 >= length_collection2"
   ]
  },
  {
   "cell_type": "markdown",
   "metadata": {},
   "source": [
    "Likewise, we need also to understand whether a state solves the problem. This is done by computing the union of the subsets of the state and checking whether the union coincides with the universe or not."
   ]
  },
  {
   "cell_type": "code",
   "execution_count": 20,
   "metadata": {},
   "outputs": [],
   "source": [
    "def f_goal(s: State):\n",
    "    union = set()\n",
    "    for i, subset in enumerate(s.subsets):\n",
    "        if s.collection[i]:\n",
    "            union = union | subset\n",
    "    return union == s.universe"
   ]
  },
  {
   "cell_type": "markdown",
   "metadata": {},
   "source": [
    "It is interesting to see that graph search takes significantly less to find the best solution compared to tree search."
   ]
  },
  {
   "cell_type": "code",
   "execution_count": 21,
   "metadata": {},
   "outputs": [
    {
     "name": "stdout",
     "output_type": "stream",
     "text": [
      "Time for tree search 0.025337934494018555\n",
      "Number of steps: 2781\n",
      "Time for graph search 0.049892425537109375\n",
      "Number of steps: 256\n"
     ]
    }
   ],
   "source": [
    "from search import TreeSearch\n",
    "from search import GraphSearch\n",
    "import time\n",
    "import numpy as np\n",
    "\n",
    "ts = TreeSearch()\n",
    "gs = GraphSearch()\n",
    "\n",
    "universe = set(range(12))\n",
    "subsets = [set(np.random.randint(0,12, size=i)) for i in range(3,7) for j in range(2)]\n",
    "\n",
    "\n",
    "t1 = time.time()\n",
    "ts.best_search(State.get_start_state(universe, subsets), f_evaluate, f_goal)\n",
    "t2 = time.time()\n",
    "print(f'Time for tree search {t2-t1}')\n",
    "print(f'Number of steps: {ts.num_steps}')\n",
    "\n",
    "t1 = time.time()\n",
    "gs.best_search(State.get_start_state(universe, subsets), f_evaluate, f_goal)\n",
    "t2 = time.time()\n",
    "print(f'Time for graph search {t2-t1}')\n",
    "print(f'Number of steps: {gs.num_steps}')"
   ]
  },
  {
   "cell_type": "markdown",
   "metadata": {},
   "source": [
    "We can also apply the $A^*$ algorithm. We can do that exploiting the priority function $f_p$, which defines the priority key in the priority queue of the search algorthm. In particular the $A^*$ algorithm requires $f_p$ to be of the form:\n",
    "\\begin{equation}\n",
    "f_p = f_c + h\n",
    "\\end{equation}\n",
    "Where $f_c$ is the cost function, whereas $h$ is the heuristic. In our case, the cost function is defined by the cardinality of the collection of sets $C_\\sigma$ of state $\\sigma$:\n",
    "\\begin{equation}\n",
    "f_c(\\sigma) = |C_\\sigma|\n",
    "\\end{equation}"
   ]
  },
  {
   "cell_type": "code",
   "execution_count": 22,
   "metadata": {},
   "outputs": [],
   "source": [
    "def f_cost(s: State):\n",
    "    return sum(s.collection)"
   ]
  },
  {
   "cell_type": "markdown",
   "metadata": {},
   "source": [
    "We also have to define a heuristic function $h_1$, which, to satisfy the requirements for $A^*$ to be complete and optimal, must be admissible, that is it should never overestimate the distance of a state from the actual best solution. "
   ]
  },
  {
   "cell_type": "markdown",
   "metadata": {},
   "source": [
    "We know that the best solution in set covering has the minimum number of sets, hence, if we ignore the elements inside the remaining sets, then we can infer that the number of additional sets that is needed to get the optimal solution is larger or equal than the number of sets such that the sum of the cardinalities of those sets is equal or larger to the cardinality of the universe."
   ]
  },
  {
   "cell_type": "markdown",
   "metadata": {},
   "source": [
    "Therefore we can define the heuristic $h_1$ as follows:\n",
    "\\begin{equation}\n",
    "h_1(\\sigma) = \\underset{n}{\\text{min}}\\{n \\in \\mathbb{N}|\\sum_{\\alpha \\in C_\\sigma}|\\alpha| + \\sum_{i=1}^n |{L_\\sigma}_i| \\geq |U|\\}\n",
    "\\end{equation}\n",
    "Where $L_\\sigma = S\\setminus C_\\sigma$ is an ordered list of the subsets in $S$ which are not included in $C_\\sigma$, in particular the sets in $L_\\sigma$ are arranged in decreasing order of cardinality."
   ]
  },
  {
   "cell_type": "code",
   "execution_count": 23,
   "metadata": {},
   "outputs": [],
   "source": [
    "def f_heuristic1(s: State):\n",
    "    collection_cardinality: int = 0\n",
    "    remaining_subset_lengths: list[int] = []\n",
    "\n",
    "    for i, el in enumerate(s.collection):\n",
    "        if not el:\n",
    "            remaining_subset_lengths.append(len(s.subsets[i]))\n",
    "        else:\n",
    "            collection_cardinality += len(s.subsets[i])\n",
    "    \n",
    "    remaining_subset_lengths = sorted(remaining_subset_lengths, reverse=True)\n",
    "    \n",
    "    n: int = 0\n",
    "    cumulative_cardinality: int = 0\n",
    "\n",
    "    while collection_cardinality + cumulative_cardinality < len(s.universe):\n",
    "\n",
    "        if n>=len(remaining_subset_lengths):\n",
    "            break\n",
    "\n",
    "        cumulative_cardinality += remaining_subset_lengths[n]\n",
    "        n += 1\n",
    "    \n",
    "    return n"
   ]
  },
  {
   "cell_type": "markdown",
   "metadata": {},
   "source": [
    "Thus, we can define our priority function as:"
   ]
  },
  {
   "cell_type": "code",
   "execution_count": 24,
   "metadata": {},
   "outputs": [],
   "source": [
    "def f_priority(s: State,):\n",
    "    return f_cost(s) + f_heuristic1(s)"
   ]
  },
  {
   "cell_type": "markdown",
   "metadata": {},
   "source": [
    "We have all the elements to solve the problem with $A^*$:"
   ]
  },
  {
   "cell_type": "code",
   "execution_count": 37,
   "metadata": {},
   "outputs": [
    {
     "name": "stdout",
     "output_type": "stream",
     "text": [
      "Universe {0, 1, 2, 3, 4, 5, 6}\n",
      "Subsets [{2, 3, 6}, {3}, {0, 3, 5}, {2, 3, 4, 6}, {1, 4}, {0, 1, 4, 6}, {6}, {1, 3}, {5}, {1, 2, 4}, {4, 5, 6}]\n",
      "Number of subsets = 10\n",
      "Statistics with heuristic:\n",
      "\tTime: 0.0\n",
      "\tNumber of steps: 26\n",
      "\tSolution: [{2, 3, 6}, {0, 1, 4, 6}, {4, 5, 6}], cardinality: 3\n",
      "\tSolution path: [{2, 3, 6}, {0, 1, 4, 6}, {4, 5, 6}] <---- [{2, 3, 6}, {0, 1, 4, 6}] <---- [{2, 3, 6}] <---- []\n",
      "\tSolution cost: 3.0\n",
      "Statistics without heuristic:\n",
      "\tTime: 0.015625476837158203\n",
      "\tNumber of steps: 113\n",
      "\tSolution: [{2, 3, 6}, {0, 1, 4, 6}, {4, 5, 6}], cardinality: 3\n",
      "\tSolution path: [{2, 3, 6}, {0, 1, 4, 6}, {4, 5, 6}] <---- [{2, 3, 6}, {0, 1, 4, 6}] <---- [{2, 3, 6}] <---- []\n",
      "\tSolution cost: 3.0\n"
     ]
    }
   ],
   "source": [
    "from search import TreeSearch\n",
    "from search import GraphSearch\n",
    "from time import time\n",
    "\n",
    "ts: TreeSearch = TreeSearch()\n",
    "gs: GraphSearch = GraphSearch()\n",
    "PROBLEM_SIZE: int = 7\n",
    "MIN_SET_SIZE: int = 1\n",
    "MAX_SET_SIZE: int = 8\n",
    "MINIMUM_NUMBER_OF_SUBSETS: int = 10\n",
    "universe: set[int] = set(range(PROBLEM_SIZE))\n",
    "subsets: list[set[int]] = []\n",
    "i: int = 0\n",
    "universe_covered: bool = False\n",
    "universe_coverage: set[int] = set()\n",
    "\n",
    "while i < MINIMUM_NUMBER_OF_SUBSETS+1 or not universe_covered:\n",
    "    set_size = np.random.randint(MIN_SET_SIZE,MAX_SET_SIZE)\n",
    "    set_ = set(np.random.randint(0,PROBLEM_SIZE, size=set_size))\n",
    "    universe_coverage |= set_\n",
    "    universe_covered = universe_coverage == universe\n",
    "    subsets.append(set_)\n",
    "    i+=1\n",
    "\n",
    "print(f'Universe {universe}')\n",
    "print(f'Subsets {subsets}')\n",
    "print(f'Number of subsets = {i-1}')\n",
    "\n",
    "ts = TreeSearch()\n",
    "gs = GraphSearch()\n",
    "t1: float = time()\n",
    "ts.objective_search(State.get_start_state(universe, subsets), f_goal, f_priority)\n",
    "t2: float = time()\n",
    "print(f'Statistics with heuristic:')\n",
    "print(f'\\tTime: {t2-t1}')\n",
    "print(f'\\tNumber of steps: {ts.num_steps}')\n",
    "print(f'\\tSolution: {ts.solution}, cardinality: {len(ts.solution)}')\n",
    "print(f'\\tSolution path: {ts.solution.complete_path}')\n",
    "print(f'\\tSolution cost: {ts.solution.priority}')\n",
    "\n",
    "ts = TreeSearch()\n",
    "gs = GraphSearch()\n",
    "t1: float = time()\n",
    "ts.objective_search(State.get_start_state(universe, subsets), f_goal, f_cost)\n",
    "t2: float = time()\n",
    "print(f'Statistics without heuristic:')\n",
    "print(f'\\tTime: {t2-t1}')\n",
    "print(f'\\tNumber of steps: {ts.num_steps}')\n",
    "print(f'\\tSolution: {ts.solution}, cardinality: {len(ts.solution)}')\n",
    "print(f'\\tSolution path: {ts.solution.complete_path}')\n",
    "print(f'\\tSolution cost: {ts.solution.priority}')"
   ]
  },
  {
   "cell_type": "markdown",
   "metadata": {},
   "source": [
    "Is $h_1$ also consistent? We can prove that. Suppose that the states $\\sigma_1$ and $\\sigma_2$ are connected by a (directed) edge, then we test:\n",
    "\\begin{equation*}\n",
    "h_1(\\sigma_1) \\leq d(\\sigma_1,\\sigma_2) + h_1(\\sigma_2)\n",
    "\\end{equation*}\n",
    "Since in our setting $d(\\sigma_1,\\sigma_2) = 1$ we write:\n",
    "\\begin{equation*}\n",
    "h_1(\\sigma_1) \\leq 1 + h_1(\\sigma_2)\n",
    "\\end{equation*}\n",
    "We can observe that $C_{\\sigma_2} = C_{\\sigma_1}\\setminus s$, where $s$ is the extra subset that $\\sigma_2$ took in its transition from its parent $\\sigma_1$. To avoid a cluttered notation we use directly $i$ instead of $\\sigma_i$ in subscripts. We can infer, then, the following:\n",
    "\\begin{equation*}\n",
    "L_2 = L_1 \\setminus \\{s\\}\n",
    "\\end{equation*}\n",
    "Now, we have two options:\n",
    "1. $s = {L_1}_1 \\implies \\forall i \\in [0,n-1]\\ |{L_1}_1| + \\sum_{j=2}^{i+1} |{L_1}_{j}| = |s| + \\sum_{j=1}^{i} |{L_2}_j| \\implies h_1(\\sigma_1) = h_1(\\sigma_2) + 1$ \n",
    "2. $s \\neq {L_1}_1 \\implies \\exists j | \\forall i \\in [0, j]\\ |{L_1}_1| + \\sum_{k=2}^{i+1} |{L_1}_{k}| \\geq |s| + \\sum_{k=1}^{i} |{L_2}_k| \\implies h_1(\\sigma_1) \\leq h_1(\\sigma_2) + 1$\n",
    "\n",
    "Overall, we get $h_1(\\sigma_1) \\leq h_1(\\sigma_2) + 1$, which is the definition of admissibility. As an implication, we can make use of $h_1$ in the graph search version of $A^*$, guaranteeing optimality."
   ]
  },
  {
   "cell_type": "markdown",
   "metadata": {},
   "source": [
    "We can also define a new heuristic $h_2$, starting from the previous one. The new heuristic works similarly to the previous one. However, instead of using the cardinality of the remaining subsets, we use the cardinality of the complement of the intersection of the remaining subsets with the part of universe covered by the current set. More formally:\n",
    "\\begin{equation*}\n",
    "    h_2(\\sigma) = \\underset{n}{\\text{min}}\\{n \\in \\mathbb{N}|\\sum_{\\alpha \\in C_\\sigma}|\\alpha| + \\sum_{i=1}^n |{L_\\sigma^*}_i| \\geq |U|\\}\n",
    "\\end{equation*}\n",
    "In particular, we construct $L_\\sigma^*$ as follows:\n",
    "1. We compute the universe coverage $U_\\sigma = \\bigcup_{\\alpha \\in C_\\sigma} \\alpha$.\n",
    "2. For each of the remaining sets, we remove the elements in $U_\\sigma$, that is, for $s$ in $S\\setminus C_\\sigma$ we have $s^* = s\\setminus U_\\sigma$.\n",
    "3. We put all the $s^*$ in $L_\\sigma^*$, arranged by decreasing order of cardinality.\n"
   ]
  },
  {
   "cell_type": "code",
   "execution_count": null,
   "metadata": {},
   "outputs": [],
   "source": [
    "def f_heuristic2(s: State):\n",
    "    collection_cardinality: int = 0\n",
    "    remaining_subset_lengths: list[int] = []\n",
    "\n",
    "    universe_coverage: set[int] = set()\n",
    "\n",
    "    for i, el in enumerate(s.collection):\n",
    "        if el:\n",
    "            universe_coverage |= s.subsets[i]\n",
    "\n",
    "    for i, el in enumerate(s.collection):\n",
    "        if not el:\n",
    "            remaining_subset_lengths.append(len(s.subsets[i] & universe_coverage))\n",
    "        else:\n",
    "            collection_cardinality += len(s.subsets[i])\n",
    "    \n",
    "    remaining_subset_lengths = sorted(remaining_subset_lengths, reverse=True)\n",
    "    \n",
    "    n: int = 0\n",
    "    cumulative_cardinality: int = 0\n",
    "\n",
    "    while collection_cardinality + cumulative_cardinality < len(s.universe):\n",
    "\n",
    "        if n>=len(remaining_subset_lengths):\n",
    "            break\n",
    "\n",
    "        cumulative_cardinality += remaining_subset_lengths[n]\n",
    "        n += 1\n",
    "    \n",
    "    return n"
   ]
  },
  {
   "cell_type": "markdown",
   "metadata": {},
   "source": [
    "We can again make some tests"
   ]
  },
  {
   "cell_type": "code",
   "execution_count": null,
   "metadata": {},
   "outputs": [
    {
     "name": "stdout",
     "output_type": "stream",
     "text": [
      "Actual size 12\n",
      "Universe {0, 1, 2, 3, 4, 5, 6, 7, 8, 9, 10, 11, 12, 13, 14}\n",
      "Subsets [{1, 14}, {11, 12, 14}, {12}, {1, 2, 5, 6, 8, 9, 12}, {3, 4, 8, 9, 13}, {10, 3, 13, 6}, {8, 5, 6, 14}, {0, 1, 3, 9, 10, 14}, {10, 12, 6, 14}, {2, 3, 13, 6}, {1, 3, 4, 5, 9, 10}, {1, 6, 7, 8, 10, 11}]\n",
      "Stats with heuristic 1\n",
      "\tTime:0.06397891044616699\n",
      "\tNumber of steps: 623\n",
      "\tSolution: [{1, 2, 5, 6, 8, 9, 12}, {3, 4, 8, 9, 13}, {0, 1, 3, 9, 10, 14}, {1, 6, 7, 8, 10, 11}], cardinality: 4\n",
      "\tSolution path: [{1, 2, 5, 6, 8, 9, 12}, {3, 4, 8, 9, 13}, {0, 1, 3, 9, 10, 14}, {1, 6, 7, 8, 10, 11}] <---- [{1, 2, 5, 6, 8, 9, 12}, {3, 4, 8, 9, 13}, {0, 1, 3, 9, 10, 14}] <---- [{3, 4, 8, 9, 13}, {0, 1, 3, 9, 10, 14}] <---- [{0, 1, 3, 9, 10, 14}] <---- []\n",
      "\tSolution cost: 4.0\n",
      "Stats with heuristic 2\n",
      "\tTime:0.01203012466430664\n",
      "\tNumber of steps: 99\n",
      "\tSolution: [{1, 2, 5, 6, 8, 9, 12}, {3, 4, 8, 9, 13}, {0, 1, 3, 9, 10, 14}, {1, 6, 7, 8, 10, 11}], cardinality: 4\n",
      "\tSolution path: [{1, 2, 5, 6, 8, 9, 12}, {3, 4, 8, 9, 13}, {0, 1, 3, 9, 10, 14}, {1, 6, 7, 8, 10, 11}] <---- [{1, 2, 5, 6, 8, 9, 12}, {3, 4, 8, 9, 13}, {1, 6, 7, 8, 10, 11}] <---- [{1, 2, 5, 6, 8, 9, 12}, {1, 6, 7, 8, 10, 11}] <---- [{1, 2, 5, 6, 8, 9, 12}] <---- []\n",
      "\tSolution cost: 4.0\n"
     ]
    }
   ],
   "source": [
    "from search import TreeSearch\n",
    "from search import GraphSearch\n",
    "from time import time\n",
    "\n",
    "def heuristic_stats(s: TreeSearch, t: float, name: str):\n",
    "    print(f'Stats with {name}')\n",
    "    print(f'\\tTime:{t}')\n",
    "    print(f'\\tNumber of steps: {s.num_steps}')\n",
    "    print(f'\\tSolution: {s.solution}, cardinality: {len(s.solution)}')\n",
    "    print(f'\\tSolution path: {s.solution.complete_path}')\n",
    "    print(f'\\tSolution cost: {s.solution.priority}')\n",
    "\n",
    "ts: TreeSearch = TreeSearch()\n",
    "gs: GraphSearch = GraphSearch()\n",
    "PROBLEM_SIZE: int = 15\n",
    "MIN_SET_SIZE: int = 1\n",
    "MAX_SET_SIZE: int = 8\n",
    "MINIMUM_NUMBER_OF_SUBSETS: int = 3\n",
    "universe: set[int] = set(range(PROBLEM_SIZE))\n",
    "subsets: list[set[int]] = []\n",
    "i: int = 0\n",
    "universe_covered: bool = False\n",
    "universe_coverage: set[int] = set()\n",
    "\n",
    "while i < MINIMUM_NUMBER_OF_SUBSETS or not universe_covered:\n",
    "    set_size = np.random.randint(MIN_SET_SIZE,MAX_SET_SIZE)\n",
    "    set_ = set(np.random.randint(0,PROBLEM_SIZE, size=set_size))\n",
    "    universe_coverage |= set_\n",
    "    universe_covered = universe_coverage == universe\n",
    "    subsets.append(set_)\n",
    "    i+=1\n",
    "\n",
    "print(f'Actual size {i}')\n",
    "print(f'Universe {universe}')\n",
    "print(f'Subsets {subsets}')\n",
    "\n",
    "f_p1 = lambda x: f_cost(x) + f_heuristic1(x)\n",
    "f_p2 = lambda x: f_cost(x) + f_heuristic2(x)\n",
    "\n",
    "ts = TreeSearch()\n",
    "t1: float = time()\n",
    "ts.objective_search(State.get_start_state(universe, subsets), f_goal, f_p1)\n",
    "t2: float = time()\n",
    "\n",
    "heuristic_stats(ts, t2-t1, 'heuristic 1')\n",
    "\n",
    "ts = TreeSearch()\n",
    "t1: float = time()\n",
    "ts.objective_search(State.get_start_state(universe, subsets), f_goal, f_p2)\n",
    "t2: float = time()\n",
    "heuristic_stats(ts, t2-t1, 'heuristic 2')"
   ]
  },
  {
   "cell_type": "markdown",
   "metadata": {},
   "source": [
    "As we can see this new heuristic performs better on average."
   ]
  },
  {
   "cell_type": "markdown",
   "metadata": {},
   "source": [
    "An even better version consists on iterating such a procedure. We can find the best set for the state with the criteria of $h_2$, then we insert it in the state and we repeat the procedure. In this case the distance becomes the number of iterations necessary to get to a solution of the set covering problem."
   ]
  },
  {
   "cell_type": "code",
   "execution_count": null,
   "metadata": {},
   "outputs": [],
   "source": [
    "def calculate_universe_coverage(collection: list[bool], subsets: list[set[int]]):\n",
    "    universe_coverage: set[int] = set()\n",
    "\n",
    "    for i, el in enumerate(collection):\n",
    "        if el:\n",
    "            universe_coverage |= subsets[i]\n",
    "    return universe_coverage\n",
    "\n",
    "def f_heuristic3(s: State):\n",
    "    \n",
    "    universe_coverage: set[int] = calculate_universe_coverage(s.collection, s.subsets)\n",
    "    tmp_collection: list[bool] = list(s.collection)\n",
    "\n",
    "    n: int = 0\n",
    "\n",
    "    while not universe_coverage == s.universe:\n",
    "        max_size: int = -1\n",
    "        max_subset_index: int = -1\n",
    "        for i, el in enumerate(tmp_collection):\n",
    "            if not el:\n",
    "                candidate_subset: set[int] = s.subsets[i] | universe_coverage\n",
    "                if len(candidate_subset) > max_size:\n",
    "                    max_subset_index = i\n",
    "                    max_size = len(candidate_subset)\n",
    "        tmp_collection[max_subset_index] = True\n",
    "        universe_coverage = calculate_universe_coverage(tmp_collection, s.subsets)\n",
    "        n += 1\n",
    "    \n",
    "    return n"
   ]
  },
  {
   "cell_type": "markdown",
   "metadata": {},
   "source": [
    "Again, we can perform some experiments:"
   ]
  },
  {
   "cell_type": "code",
   "execution_count": null,
   "metadata": {},
   "outputs": [
    {
     "name": "stdout",
     "output_type": "stream",
     "text": [
      "Actual size 27\n",
      "Universe {0, 1, 2, 3, 4, 5, 6, 7, 8, 9, 10, 11, 12, 13, 14}\n",
      "Subsets [{11, 4, 13, 6}, {3, 14}, {1, 4, 7, 10, 11, 14}, {14, 6}, {0, 12, 14}, {5}, {1, 2, 8, 11, 12, 13, 14}, {0, 5, 7, 8, 9}]\n",
      "Stats with heuristic 1\n",
      "\tTime:0.03703188896179199\n",
      "\tNumber of steps: 634\n",
      "\tSolution: [{3, 14}, {1, 4, 7, 10, 11, 14}, {14, 6}, {1, 2, 8, 11, 12, 13, 14}, {0, 5, 7, 8, 9}], cardinality: 5\n",
      "\tSolution path: [{3, 14}, {1, 4, 7, 10, 11, 14}, {14, 6}, {1, 2, 8, 11, 12, 13, 14}, {0, 5, 7, 8, 9}] <---- [{3, 14}, {1, 4, 7, 10, 11, 14}, {14, 6}, {0, 5, 7, 8, 9}] <---- [{3, 14}, {1, 4, 7, 10, 11, 14}, {0, 5, 7, 8, 9}] <---- [{3, 14}, {1, 4, 7, 10, 11, 14}] <---- [{3, 14}] <---- []\n",
      "\tSolution cost: 5.0\n",
      "Stats with heuristic 2\n",
      "\tTime:0.008972644805908203\n",
      "\tNumber of steps: 147\n",
      "\tSolution: [{3, 14}, {1, 4, 7, 10, 11, 14}, {14, 6}, {1, 2, 8, 11, 12, 13, 14}, {0, 5, 7, 8, 9}], cardinality: 5\n",
      "\tSolution path: [{3, 14}, {1, 4, 7, 10, 11, 14}, {14, 6}, {1, 2, 8, 11, 12, 13, 14}, {0, 5, 7, 8, 9}] <---- [{3, 14}, {1, 4, 7, 10, 11, 14}, {14, 6}, {1, 2, 8, 11, 12, 13, 14}] <---- [{3, 14}, {1, 4, 7, 10, 11, 14}, {1, 2, 8, 11, 12, 13, 14}] <---- [{3, 14}, {1, 2, 8, 11, 12, 13, 14}] <---- [{1, 2, 8, 11, 12, 13, 14}] <---- []\n",
      "\tSolution cost: 5.0\n",
      "Stats with heuristic 3\n",
      "\tTime:0.0040128231048583984\n",
      "\tNumber of steps: 40\n",
      "\tSolution: [{3, 14}, {1, 4, 7, 10, 11, 14}, {14, 6}, {1, 2, 8, 11, 12, 13, 14}, {0, 5, 7, 8, 9}], cardinality: 5\n",
      "\tSolution path: [{3, 14}, {1, 4, 7, 10, 11, 14}, {14, 6}, {1, 2, 8, 11, 12, 13, 14}, {0, 5, 7, 8, 9}] <---- [{3, 14}, {1, 4, 7, 10, 11, 14}, {14, 6}, {1, 2, 8, 11, 12, 13, 14}] <---- [{3, 14}, {1, 4, 7, 10, 11, 14}, {1, 2, 8, 11, 12, 13, 14}] <---- [{3, 14}, {1, 2, 8, 11, 12, 13, 14}] <---- [{3, 14}] <---- []\n",
      "\tSolution cost: 5.0\n"
     ]
    }
   ],
   "source": [
    "from search import TreeSearch\n",
    "from search import GraphSearch\n",
    "from time import time\n",
    "\n",
    "def heuristic_stats(s: TreeSearch, t: float, name: str):\n",
    "    print(f'Stats with {name}')\n",
    "    print(f'\\tTime:{t}')\n",
    "    print(f'\\tNumber of steps: {s.num_steps}')\n",
    "    print(f'\\tSolution: {s.solution}, cardinality: {len(s.solution)}')\n",
    "    print(f'\\tSolution path: {s.solution.complete_path}')\n",
    "    print(f'\\tSolution cost: {s.solution.priority}')\n",
    "\n",
    "ts: TreeSearch = TreeSearch()\n",
    "gs: GraphSearch = GraphSearch()\n",
    "PROBLEM_SIZE: int = 15\n",
    "MIN_SET_SIZE: int = 1\n",
    "MAX_SET_SIZE: int = 8\n",
    "MINIMUM_NUMBER_OF_SUBSETS: int = 3\n",
    "universe: set[int] = set(range(PROBLEM_SIZE))\n",
    "subsets: list[set[int]] = []\n",
    "i: int = 0\n",
    "universe_covered: bool = False\n",
    "universe_coverage: set[int] = set()\n",
    "\n",
    "while i < MINIMUM_NUMBER_OF_SUBSETS or not universe_covered:\n",
    "    set_size = np.random.randint(MIN_SET_SIZE,MAX_SET_SIZE)\n",
    "    set_ = set(np.random.randint(0,PROBLEM_SIZE, size=set_size))\n",
    "    universe_coverage |= set_\n",
    "    universe_covered = universe_coverage == universe\n",
    "    subsets.append(set_)\n",
    "    i+=1\n",
    "\n",
    "subsets = [{11, 4, 13, 6}, {3, 14}, {1, 4, 7, 10, 11, 14}, {14, 6}, {0, 12, 14}, {5}, {1, 2, 8, 11, 12, 13, 14}, {0, 5, 7, 8, 9}]\n",
    "\n",
    "print(f'Actual size {i}')\n",
    "print(f'Universe {universe}')\n",
    "print(f'Subsets {subsets}')\n",
    "\n",
    "f_p1 = lambda x: f_cost(x) + f_heuristic1(x)\n",
    "f_p2 = lambda x: f_cost(x) + f_heuristic2(x)\n",
    "f_p3 = lambda x: f_cost(x) + f_heuristic3(x)\n",
    "\n",
    "ts = TreeSearch()\n",
    "t1: float = time()\n",
    "ts.objective_search(State.get_start_state(universe, subsets), f_goal, f_p1)\n",
    "t2: float = time()\n",
    "\n",
    "heuristic_stats(ts, t2-t1, 'heuristic 1')\n",
    "\n",
    "ts = TreeSearch()\n",
    "t1: float = time()\n",
    "ts.objective_search(State.get_start_state(universe, subsets), f_goal, f_p2)\n",
    "t2: float = time()\n",
    "\n",
    "heuristic_stats(ts, t2-t1, 'heuristic 2')\n",
    "\n",
    "ts = TreeSearch()\n",
    "t1: float = time()\n",
    "ts.objective_search(State.get_start_state(universe, subsets), f_goal, f_p3)\n",
    "t2: float = time()\n",
    "\n",
    "heuristic_stats(ts, t2-t1, 'heuristic 3')"
   ]
  },
  {
   "cell_type": "markdown",
   "metadata": {},
   "source": [
    "We have to denote that $h_3$ is not admissible, that is because every time it goes on to compute a valid solution, which is not the best one.\n",
    "More precisely, the point before provides the argument for the heuristic computing a cost which is larger or _equal_ to an optimal solution.\n",
    "However, we can try to make heuristic by bounding the optimal solution. Trivially, we can bound the distance of the optimal solution with the one computed by the heuristic. However, we also know that, by construction, $h_3$ can provide an optimal solution. What about two steps away?\n",
    "Is there a case where $h_3$ could take three steps or more? We have to consider that, over two steps, another choice could be better. That is because the best solution over two steps have to consider all possible combinations of two choices."
   ]
  },
  {
   "cell_type": "markdown",
   "metadata": {},
   "source": [
    "We can make an example:\n",
    "$U = \\{1,2,3,4,5,6\\}$\n",
    "$S = \\{\\{1,2,3,4\\}, \\{2,4,6\\}, \\{1,3,5\\}\\}$.\n",
    "In this case the optimal solution is $\\{\\{2,4,6\\}, \\{1,3,5\\}\\}$; $h_3$, however would take $\\{1,2,3,4\\}$ first, which would force taking the other two sets. A similar argument goes for the heuristic $h_2$, since it would follow the same path as $h_3$ in this case."
   ]
  },
  {
   "cell_type": "code",
   "execution_count": null,
   "metadata": {},
   "outputs": [
    {
     "name": "stdout",
     "output_type": "stream",
     "text": [
      "Actual solution: [{2, 4, 6}, {1, 3, 5}] <---- [{2, 4, 6}] <---- []\n",
      "Cost h1: 2\n",
      "Cost h2: 3\n",
      "Cost h3: 3\n"
     ]
    }
   ],
   "source": [
    "from search import TreeSearch\n",
    "\n",
    "ts: TreeSearch = TreeSearch()\n",
    "\n",
    "subsets: list[set[int]] = [{1,2,3,4}, {2,4,6}, {1,3,5}]\n",
    "universe: set[int] = {1,2,3,4,5,6}\n",
    "\n",
    "f_p1 = lambda x: f_cost(x) + f_heuristic1(x)\n",
    "\n",
    "initial_state: State = State.get_start_state(universe, subsets)\n",
    "ts.objective_search(initial_state, f_goal=f_goal, f_priority= lambda x: f_p1(x))\n",
    "print(f'Actual solution: {ts.solution.complete_path}')\n",
    "print(f'Cost h1: {f_heuristic1(initial_state)}')\n",
    "print(f'Cost h2: {f_heuristic2(initial_state)}')\n",
    "print(f'Cost h3: {f_heuristic3(initial_state)}')\n"
   ]
  },
  {
   "cell_type": "markdown",
   "metadata": {},
   "source": [
    "However, note that we can make both $h_3$ and $h_2$ admissible by dividing by a constant $k$. Moreover, we can make use of $h_1$, since it is admissible. In particular, if $\\sigma$ is a state and $f(\\sigma)$ is the exact distance of $\\sigma$ from the solution, we can find $k$ by solving the system:\n",
    "$$\\begin{cases}\n",
    "h_1(\\sigma) &\\leq f(s) \\\\\n",
    "\\frac{h_3(\\sigma)}{k} &\\leq f(s)\n",
    "\\end{cases}$$\n",
    "In particular we use $\\frac{h_3(\\sigma)}{k} \\leq h_1(\\sigma) \\implies \\frac{h_3(\\sigma)}{k} \\leq f(\\sigma)$. Then we get $k \\geq \\frac{h_3(\\sigma)}{h_1(\\sigma)}$. Note, however that this does not make sense, since at this point we could just use $h_1$. In general we shall find a bound that is not computed by a heuristic, but that's not possible, since a heuristic is any function of the state. The strength of $h_3$ lies in the fact that it can find a very good solution in a much shorter time than $h_1$, at least from what it's shown by the tests performed in this notebook. This can be enough for many application which do not require an exact solution. "
   ]
  },
  {
   "cell_type": "code",
   "execution_count": null,
   "metadata": {},
   "outputs": [
    {
     "name": "stdout",
     "output_type": "stream",
     "text": [
      "Actual solution: [{2, 4, 6}, {1, 3, 5}] <---- [{2, 4, 6}] <---- []\n",
      "Cost h1: 2\n",
      "Cost normalised h3: 2.0\n"
     ]
    }
   ],
   "source": [
    "from search import TreeSearch\n",
    "\n",
    "ts: TreeSearch = TreeSearch()\n",
    "\n",
    "subsets: list[set[int]] = [{1,2,3,4}, {2,4,6}, {1,3,5}]\n",
    "universe: set[int] = {1,2,3,4,5,6}\n",
    "\n",
    "f_p1 = lambda x: f_cost(x) + f_heuristic1(x)\n",
    "f_h3_2 = lambda x: f_heuristic3(x)/(f_heuristic3(x)/f_heuristic1(x)) # We calculate k=f_h3/f_h1, but notice that if we simplify it is just f_h1!\n",
    "\n",
    "initial_state: State = State.get_start_state(universe, subsets)\n",
    "ts.objective_search(initial_state, f_goal=f_goal, f_priority= f_p1)\n",
    "print(f'Actual solution: {ts.solution.complete_path}')\n",
    "print(f'Cost h1: {f_heuristic1(initial_state)}')\n",
    "print(f'Cost normalised h3: {f_h3_2(initial_state)}')"
   ]
  }
 ],
 "metadata": {
  "kernelspec": {
   "display_name": "Python 3",
   "language": "python",
   "name": "python3"
  },
  "language_info": {
   "codemirror_mode": {
    "name": "ipython",
    "version": 3
   },
   "file_extension": ".py",
   "mimetype": "text/x-python",
   "name": "python",
   "nbconvert_exporter": "python",
   "pygments_lexer": "ipython3",
   "version": "3.12.1"
  }
 },
 "nbformat": 4,
 "nbformat_minor": 2
}
