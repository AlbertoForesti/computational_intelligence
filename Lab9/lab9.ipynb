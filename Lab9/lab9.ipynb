{
 "cells": [
  {
   "cell_type": "markdown",
   "metadata": {},
   "source": [
    "Copyright **`(c)`** 2023 Giovanni Squillero `<giovanni.squillero@polito.it>`  \n",
    "[`https://github.com/squillero/computational-intelligence`](https://github.com/squillero/computational-intelligence)  \n",
    "Free for personal or classroom use; see [`LICENSE.md`](https://github.com/squillero/computational-intelligence/blob/master/LICENSE.md) for details.  "
   ]
  },
  {
   "cell_type": "markdown",
   "metadata": {},
   "source": [
    "# LAB9\n",
    "\n",
    "Write a local-search algorithm (eg. an EA) able to solve the *Problem* instances 1, 2, 5, and 10 on a 1000-loci genomes, using a minimum number of fitness calls. That's all.\n",
    "\n",
    "### Deadlines:\n",
    "\n",
    "* Submission: Sunday, December 3 ([CET](https://www.timeanddate.com/time/zones/cet))\n",
    "* Reviews: Sunday, December 10 ([CET](https://www.timeanddate.com/time/zones/cet))\n",
    "\n",
    "Notes:\n",
    "\n",
    "* Reviews will be assigned  on Monday, December 4\n",
    "* You need to commit in order to be selected as a reviewer (ie. better to commit an empty work than not to commit)"
   ]
  },
  {
   "cell_type": "code",
   "execution_count": 2,
   "metadata": {},
   "outputs": [],
   "source": [
    "from random import choices\n",
    "\n",
    "import lab9_lib"
   ]
  },
  {
   "cell_type": "code",
   "execution_count": 3,
   "metadata": {},
   "outputs": [
    {
     "name": "stdout",
     "output_type": "stream",
     "text": [
      "00011111110101000111000001000010010111100111110101: 23.34%\n",
      "11001100101101111010011001101110110100001101001100: 23.33%\n",
      "10100011100100101100101010111001110001111011001000: 23.34%\n",
      "01011100001010010101100101010110000100100010101011: 7.34%\n",
      "11011000001010000010110011111011111110010100000100: 15.36%\n",
      "11001001011001001011110101111010011001011100101001: 9.13%\n",
      "11101100011011110011100000100000111010110101011101: 7.33%\n",
      "11111000011011001011010110010000011111010010100111: 23.34%\n",
      "01101000101111100011001110110000101100010010110010: 19.36%\n",
      "11111110111010000000010011100110010010110101100110: 41.56%\n",
      "10\n"
     ]
    }
   ],
   "source": [
    "fitness = lab9_lib.make_problem(10)\n",
    "for n in range(10):\n",
    "    ind = choices([0, 1], k=50)\n",
    "    print(f\"{''.join(str(g) for g in ind)}: {fitness(ind):.2%}\")\n",
    "\n",
    "print(fitness.calls)"
   ]
  },
  {
   "cell_type": "code",
   "execution_count": 4,
   "metadata": {},
   "outputs": [],
   "source": [
    "import numpy as np\n",
    "import numpy.typing as npt\n",
    "import networkx as nx\n",
    "from typing import List, Tuple, Optional, Callable, Union\n",
    "from itertools import chain, combinations\n",
    "from functools import reduce\n",
    "from tqdm import tqdm\n",
    "\n",
    "class Agent:\n",
    "\n",
    "    def __init__(self, genome: Optional[np.array] = None, num_loci: int = 1000) -> None:\n",
    "        \"\"\"\n",
    "        num_rows: number of rows of the game\n",
    "        genome: initial parameters\n",
    "        k: largest number of piles it can take\n",
    "        \"\"\"\n",
    "        if genome is None:\n",
    "            self._genome = np.random.choice([0,1], num_loci)\n",
    "        else:\n",
    "            self._genome = genome\n",
    "        \n",
    "        self.fitness = 0\n",
    "        self.explicit_fitness = False\n",
    "    \n",
    "    def __lt__(self, other: 'Agent'):\n",
    "        return self._fitness < other._fitness\n",
    "\n",
    "    def __hash__(self):\n",
    "        return hash(self._genome)\n",
    "\n",
    "    def __eq__(self, other):\n",
    "        if isinstance(other, Agent):\n",
    "            return self._genome == other._genome\n",
    "        return False\n",
    "\n",
    "    @property\n",
    "    def genome(self):\n",
    "        return self._genome\n",
    "\n",
    "    @genome.setter\n",
    "    def genome(self, p):\n",
    "        self._genome = p\n",
    "    \n",
    "    @property\n",
    "    def fitness(self):\n",
    "        return self._fitness\n",
    "\n",
    "    @fitness.setter\n",
    "    def fitness(self, fitness: float):\n",
    "        self._fitness = fitness\n",
    "        self.explicit_fitness = True\n",
    "    \n",
    "    def set_implicit_fitness(self, fitness: float):\n",
    "        self._fitness = fitness\n",
    "        self.explicit_fitness = False\n",
    "    \n",
    "    def reset(self):\n",
    "        self.fitness = 0\n",
    "    \n",
    "    def __iadd__(self, other) -> None:\n",
    "        self._genome += other\n",
    "\n",
    "\n",
    "class EvolutionTask:\n",
    "\n",
    "    def __init__(self, fitness: 'Problem') -> None:\n",
    "        self.is_island = False\n",
    "        self.fitness = fitness\n",
    "        self.best_fitness = 0\n",
    "    \n",
    "    def mutate(self, agent: Agent, p: float = 0.001) -> Agent:\n",
    "        \"\"\"\n",
    "        Mutates loci with random flipping and returns a new agent\n",
    "        \"\"\"\n",
    "        new_genome = []\n",
    "        for locus in agent.genome:\n",
    "            if np.random.rand()<p:\n",
    "                new_genome.append(1-locus)\n",
    "            else:\n",
    "                new_genome.append(locus)\n",
    "        return Agent(np.array(new_genome))\n",
    "    \n",
    "    def compute_similarity(self, a: Agent, b: Agent):\n",
    "        sim = [a.genome[i]==b.genome[i] for i in range(len(a.genome))]\n",
    "        return sum(sim)/len(sim)\n",
    "\n",
    "    def compute_similarity_matrix(self) -> None:\n",
    "        if self.similarity_matrix is None:\n",
    "            G = nx.Graph()\n",
    "        else:\n",
    "            G = self.similarity_matrix\n",
    "        for a in self.agents:\n",
    "            for b in self.agents:\n",
    "                if a not in G or b not in G:\n",
    "                    G.add_edge(a,b, weight=self.compute_similarity(a,b))\n",
    "        self.similarity_matrix = G\n",
    "\n",
    "    def calculate_fitness(self, explicit: bool=True, sample_size: Union[int, float] = 0) -> None:\n",
    "        \"\"\"\n",
    "        Calculates the fitness of the current population\n",
    "        \"\"\"\n",
    "        if explicit:\n",
    "            for agent in self.agents:\n",
    "                agent.fitness = self.fitness(agent.genome)\n",
    "                if agent.fitness > self.best_fitness:\n",
    "                    self.best_fitness = agent.fitness\n",
    "        else:\n",
    "            self.compute_similarity_matrix()\n",
    "            stubborn_agents_indeces = np.random.choice(range(len(self.agents)), size=sample_size, replace=False)\n",
    "            u = np.zeros_like(self.agents)\n",
    "            u[stubborn_agents_indeces] = [a.fitness for a in self.agents[stubborn_agents_indeces]]\n",
    "            L = nx.laplacian_matrix(self.similarity_matrix).to_array()\n",
    "            for i in stubborn_agents_indeces:\n",
    "                L[i,:] = np.zeros_like(self.agents)\n",
    "                L[i,i] = self.agents[i].fitness\n",
    "            new_fitness = np.linalg.inv(L)*u\n",
    "            for i, f in enumerate(new_fitness):\n",
    "                if i not in stubborn_agents_indeces:\n",
    "                    self.agents[i].set_implicit_fitness(f)\n",
    "    \n",
    "    def crossover(self, a1: Agent, a2: Agent, a: float=1, b: float=999) -> Agent:\n",
    "        \"\"\"\n",
    "        Given two agents it randomly selects the parameters between the two\n",
    "        \"\"\"\n",
    "        n = int(np.random.beta(a,b)*len(a1.genome))\n",
    "        new_genome = np.concatenate((a1.genome[0:n], a2.genome[n:]))\n",
    "        return Agent(new_genome)\n",
    "    \n",
    "    def es_iter(self, agents: Optional['np.array']=None, population_size: int=100, mu: int=30, strategy='comma', p=0.001) -> None:\n",
    "        \n",
    "        if agents is None:\n",
    "            self.agents = np.partition(self.agents, population_size-mu)[population_size-mu:] # selective pressure, takes top mu agents\n",
    "        else:\n",
    "            self.agents = agents\n",
    "\n",
    "        self.calculate_fitness()\n",
    "\n",
    "        if strategy == 'comma':\n",
    "            num_children = population_size\n",
    "        else:\n",
    "            num_children = population_size-mu\n",
    "        \n",
    "        parents = np.random.choice(self.agents, num_children)\n",
    "        children = [self.mutate(a, p) for a in parents]\n",
    "        if strategy == 'comma':\n",
    "            self.agents = children\n",
    "        else:\n",
    "            self.agents = children + list(self.agents)\n",
    "    \n",
    "    def ga_iter(self, agents: Optional['np.array']=None, population_size: int=100, mu: int=30, strategy='comma', p=0.001, a_beta=1, b_beta=999) -> None:\n",
    "        \n",
    "        if agents is None:\n",
    "            self.agents = np.partition(self.agents, population_size-mu)[population_size-mu:] # selective pressure, takes top mu agents\n",
    "        else:\n",
    "            self.agents = agents\n",
    "\n",
    "        self.calculate_fitness()\n",
    "\n",
    "        if strategy == 'comma':\n",
    "            num_children = population_size\n",
    "        else:\n",
    "            num_children = population_size-mu\n",
    "        \n",
    "        parents = np.random.choice(self.agents, num_children)\n",
    "        children = [self.crossover(a[0], a[1], a_beta, b_beta) for a in np.random.choice(parents, (num_children, 2))]\n",
    "        children = [self.mutate(a, p) for a in children]\n",
    "        if strategy == 'comma':\n",
    "            self.agents = children\n",
    "        else:\n",
    "            self.agents = children + list(self.agents)\n",
    "    \n",
    "    def es(self, n_generations: int=100, population_size: int=100, mu: int=30, strategy='comma', p=0.001) -> None:\n",
    "        self.is_island = False\n",
    "        self.agents: 'np.array' = np.array([Agent() for _ in range(population_size)])\n",
    "        for _ in tqdm(range(n_generations)):\n",
    "            self.es_iter(population_size=population_size, mu=mu, strategy=strategy, p=p)\n",
    "        self.calculate_fitness()\n",
    "    \n",
    "    def genetic_algorithm(self, n_generations: int=100, population_size: int=100, mu: int=30, strategy='comma', p=0.001, a_beta=1, b_beta=999) -> None:\n",
    "        self.is_island = False\n",
    "        self.agents: 'np.array' = np.array([Agent() for _ in range(population_size)])\n",
    "        for _ in tqdm(range(n_generations)):\n",
    "            self.ga_iter(population_size=population_size, mu=mu, strategy=strategy, p=p, a_beta=a_beta, b_beta=b_beta)\n",
    "        self.calculate_fitness()\n",
    "    \n",
    "    def migrate(self, migration_size: int=1) -> 'np.array':\n",
    "        return np.random.choice(self.agents, migration_size)\n",
    "    \n",
    "    def receive_migrants(self, migrants: 'np.array'):\n",
    "        self.agents = np.concatenate((self.agents, migrants))\n",
    "    \n",
    "    def island_model(self, n_generations: int=100, migration_period: int=1, migration_size: int=1, island_size: int=10, n_islands: int = 10, mu_island: int=3, strategy='comma', p=0.001, a_beta=1, b_beta=999, replace=False):\n",
    "        self.is_island = True\n",
    "        self.islands: 'np.array' = [EvolutionTask(self.fitness) for _ in range(n_islands)]\n",
    "        for i in tqdm(range(n_generations)):\n",
    "            for island in self.islands:\n",
    "                if i == 0:\n",
    "                    island.ga_iter(agents=np.array([Agent() for _ in range(island_size)]), population_size=island_size, mu=mu_island, strategy=strategy, p=p, a_beta=a_beta, b_beta=b_beta)\n",
    "                else:\n",
    "                    island.ga_iter(population_size=island_size, mu=mu_island, strategy=strategy, p=p, a_beta=a_beta, b_beta=b_beta)\n",
    "            if i%migration_period==0:\n",
    "                migrants = np.concatenate([island.migrate(migration_size) for island in self.islands])\n",
    "                migrants = np.random.choice(migrants, size=(n_islands, migration_size), replace=replace)\n",
    "                for j, island in enumerate(self.islands):\n",
    "                    island.receive_migrants(migrants[j,:])\n",
    "            for island in self.islands:\n",
    "                island.calculate_fitness()\n",
    "        for island in self.islands:\n",
    "            island.calculate_fitness()\n",
    "    \n",
    "    @property\n",
    "    def best_fitness(self) -> float:\n",
    "        if self.is_island:\n",
    "            return max([island.best_fitness for island in self.islands])\n",
    "        return self.best_fitness\n",
    "    \n",
    "    @property\n",
    "    def fitness_calls(self) -> int:\n",
    "        return self.fitness.calls"
   ]
  },
  {
   "cell_type": "code",
   "execution_count": 5,
   "metadata": {},
   "outputs": [
    {
     "name": "stderr",
     "output_type": "stream",
     "text": [
      "100%|██████████| 10/10 [00:00<00:00, 12.47it/s]"
     ]
    },
    {
     "name": "stdout",
     "output_type": "stream",
     "text": [
      "0.11360234638 600\n"
     ]
    },
    {
     "name": "stderr",
     "output_type": "stream",
     "text": [
      "\n"
     ]
    }
   ],
   "source": [
    "fitness = lab9_lib.make_problem(10)\n",
    "et = EvolutionTask(fitness)\n",
    "et.es(n_generations=10, mu=50)\n",
    "print(et.best_fitness, fitness.calls)\n"
   ]
  },
  {
   "cell_type": "code",
   "execution_count": 6,
   "metadata": {},
   "outputs": [
    {
     "name": "stderr",
     "output_type": "stream",
     "text": [
      "  0%|          | 0/10 [00:00<?, ?it/s]"
     ]
    },
    {
     "name": "stderr",
     "output_type": "stream",
     "text": [
      "100%|██████████| 10/10 [00:00<00:00, 10.65it/s]"
     ]
    },
    {
     "name": "stdout",
     "output_type": "stream",
     "text": [
      "0.11000135589 600\n"
     ]
    },
    {
     "name": "stderr",
     "output_type": "stream",
     "text": [
      "\n"
     ]
    }
   ],
   "source": [
    "fitness = lab9_lib.make_problem(10)\n",
    "et = EvolutionTask(fitness)\n",
    "et.genetic_algorithm(n_generations=10, mu=50)\n",
    "print(et.best_fitness, fitness.calls)"
   ]
  },
  {
   "cell_type": "code",
   "execution_count": 11,
   "metadata": {},
   "outputs": [
    {
     "name": "stderr",
     "output_type": "stream",
     "text": [
      "  0%|          | 0/1000 [00:00<?, ?it/s]"
     ]
    },
    {
     "name": "stderr",
     "output_type": "stream",
     "text": [
      "100%|██████████| 1000/1000 [15:16<00:00,  1.09it/s]"
     ]
    },
    {
     "name": "stdout",
     "output_type": "stream",
     "text": [
      "0.43072000000000005 1701700\n"
     ]
    },
    {
     "name": "stderr",
     "output_type": "stream",
     "text": [
      "\n"
     ]
    }
   ],
   "source": [
    "fitness = lab9_lib.make_problem(5)\n",
    "et = EvolutionTask(fitness)\n",
    "et.island_model(n_generations=1000, mu_island=30, migration_size=20, island_size=100)\n",
    "print(et.best_fitness, fitness.calls)"
   ]
  }
 ],
 "metadata": {
  "kernelspec": {
   "display_name": "ci-fLJ3OwGs-py3.12",
   "language": "python",
   "name": "python3"
  },
  "language_info": {
   "codemirror_mode": {
    "name": "ipython",
    "version": 3
   },
   "file_extension": ".py",
   "mimetype": "text/x-python",
   "name": "python",
   "nbconvert_exporter": "python",
   "pygments_lexer": "ipython3",
   "version": "3.10.5"
  }
 },
 "nbformat": 4,
 "nbformat_minor": 2
}
