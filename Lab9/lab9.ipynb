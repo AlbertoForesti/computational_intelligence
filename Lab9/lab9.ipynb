{
 "cells": [
  {
   "cell_type": "markdown",
   "metadata": {},
   "source": [
    "Copyright **`(c)`** 2023 Giovanni Squillero `<giovanni.squillero@polito.it>`  \n",
    "[`https://github.com/squillero/computational-intelligence`](https://github.com/squillero/computational-intelligence)  \n",
    "Free for personal or classroom use; see [`LICENSE.md`](https://github.com/squillero/computational-intelligence/blob/master/LICENSE.md) for details.  "
   ]
  },
  {
   "cell_type": "markdown",
   "metadata": {},
   "source": [
    "# LAB9\n",
    "\n",
    "Write a local-search algorithm (eg. an EA) able to solve the *Problem* instances 1, 2, 5, and 10 on a 1000-loci genomes, using a minimum number of fitness calls. That's all.\n",
    "\n",
    "### Deadlines:\n",
    "\n",
    "* Submission: Sunday, December 3 ([CET](https://www.timeanddate.com/time/zones/cet))\n",
    "* Reviews: Sunday, December 10 ([CET](https://www.timeanddate.com/time/zones/cet))\n",
    "\n",
    "Notes:\n",
    "\n",
    "* Reviews will be assigned  on Monday, December 4\n",
    "* You need to commit in order to be selected as a reviewer (ie. better to commit an empty work than not to commit)"
   ]
  },
  {
   "cell_type": "code",
   "execution_count": 1,
   "metadata": {},
   "outputs": [],
   "source": [
    "from random import choices\n",
    "\n",
    "import lab9_lib"
   ]
  },
  {
   "cell_type": "code",
   "execution_count": 2,
   "metadata": {},
   "outputs": [
    {
     "name": "stdout",
     "output_type": "stream",
     "text": [
      "01100111001110111101101011110000010101100001110001: 9.13%\n",
      "00101010111110000111110001111010100001101100110001: 15.33%\n",
      "01000100110001000101111000010010101101110000110011: 7.33%\n",
      "11010111011001101001100010100000110001011100010110: 7.33%\n",
      "00011001000100000010111000010110001100001111111001: 17.56%\n",
      "01101010100110010110111101111101101001101111100101: 19.11%\n",
      "11001101111110110001100000101111001011111010010011: 19.13%\n",
      "01000110101110001110001111100111101101010010110100: 15.33%\n",
      "11111100100001100100111111111000110111100110111100: 39.33%\n",
      "10000000010000000100011011101011000110111100001110: 23.56%\n",
      "10\n"
     ]
    }
   ],
   "source": [
    "fitness = lab9_lib.make_problem(10)\n",
    "for n in range(10):\n",
    "    ind = choices([0, 1], k=50)\n",
    "    print(f\"{''.join(str(g) for g in ind)}: {fitness(ind):.2%}\")\n",
    "\n",
    "print(fitness.calls)"
   ]
  },
  {
   "cell_type": "code",
   "execution_count": null,
   "metadata": {},
   "outputs": [],
   "source": [
    "import numpy as np\n",
    "import numpy.typing as npt\n",
    "import networkx as nx\n",
    "from typing import List, Tuple, Optional, Callable, Union\n",
    "from itertools import chain, combinations\n",
    "from functools import reduce\n",
    "from tqdm import tqdm\n",
    "from matplotlib import pyplot as plt\n",
    "\n",
    "class Agent:\n",
    "\n",
    "    def __init__(self, genome: Optional[np.array] = None, num_loci: int = 1000, fitness: int = 0) -> None:\n",
    "        \"\"\"\n",
    "        num_rows: number of rows of the game\n",
    "        genome: initial parameters\n",
    "        k: largest number of piles it can take\n",
    "        \"\"\"\n",
    "        if genome is None:\n",
    "            self._genome = np.random.choice([0,1], num_loci)\n",
    "        else:\n",
    "            self._genome = genome\n",
    "        \n",
    "        self.fitness = fitness\n",
    "        self.explicit_fitness = False\n",
    "    \n",
    "    def __lt__(self, other: 'Agent'):\n",
    "        return self._fitness < other._fitness\n",
    "\n",
    "    def __hash__(self):\n",
    "        return hash(str(self._genome))\n",
    "\n",
    "    def __eq__(self, other):\n",
    "        if isinstance(other, Agent):\n",
    "            return str(self._genome) == str(other._genome)\n",
    "        return False\n",
    "\n",
    "    @property\n",
    "    def genome(self):\n",
    "        return self._genome\n",
    "\n",
    "    @genome.setter\n",
    "    def genome(self, p):\n",
    "        self._genome = p\n",
    "    \n",
    "    @property\n",
    "    def fitness(self):\n",
    "        return self._fitness\n",
    "\n",
    "    @fitness.setter\n",
    "    def fitness(self, fitness: float):\n",
    "        self._fitness = fitness\n",
    "        self.explicit_fitness = True\n",
    "    \n",
    "    def set_implicit_fitness(self, fitness: float):\n",
    "        self._fitness = fitness\n",
    "        self.explicit_fitness = False\n",
    "    \n",
    "    def reset(self):\n",
    "        self.fitness = 0\n",
    "    \n",
    "    def __iadd__(self, other) -> None:\n",
    "        self._genome += other\n",
    "\n",
    "\n",
    "class EvolutionTask:\n",
    "\n",
    "    def __init__(self, fitness: 'Problem', period_true_fitness: int = 5, sample_size_fitness: int = 10, novelty_factor: float = 0.01) -> None:\n",
    "        self.is_island = False\n",
    "        self.fitness = fitness\n",
    "        self.best_fitness = 0\n",
    "        self.fitness_list = []\n",
    "        self.similarity_matrix = None\n",
    "        self.set_fitness_calculation_params(period_true_fitness, sample_size_fitness, novelty_factor)\n",
    "    \n",
    "    def set_fitness_calculation_params(self, period_true_fitness: int = 5, sample_size_fitness: int = 10, novelty_factor: float = 1) -> None:\n",
    "        self.period_true_fitness = period_true_fitness\n",
    "        self.sample_size_fitness = sample_size_fitness\n",
    "        self.novelty_factor = novelty_factor\n",
    "    \n",
    "    def mutate(self, agent: Agent, p: float = 0.001) -> Agent:\n",
    "        \"\"\"\n",
    "        Mutates loci with random flipping and returns a new agent\n",
    "        \"\"\"\n",
    "        new_genome = []\n",
    "        for locus in agent.genome:\n",
    "            if np.random.rand()<p:\n",
    "                new_genome.append(1-locus)\n",
    "            else:\n",
    "                new_genome.append(locus)\n",
    "        return Agent(np.array(new_genome), np.random.normal(agent.fitness, scale=self.novelty_factor/(1+agent.fitness)))\n",
    "\n",
    "    def calculate_fitness(self, explicit: bool=True) -> None:\n",
    "        \"\"\"\n",
    "        Calculates the fitness of the current population\n",
    "        \"\"\"\n",
    "        if explicit:\n",
    "            best_in_gen = 0\n",
    "            for agent in self.agents:\n",
    "                agent.fitness = self.fitness(agent.genome)\n",
    "                if agent.fitness > best_in_gen:\n",
    "                    best_in_gen = agent.fitness\n",
    "            self.fitness_list.append(best_in_gen)\n",
    "        else:\n",
    "            self.fitness_list.append(self.fitness_list[-1])\n",
    "\n",
    "    \n",
    "    def crossover(self, a1: Agent, a2: Agent, a: float=1, b: float=999, strategy='beta') -> Agent:\n",
    "        \"\"\"\n",
    "        Given two agents it randomly selects the parameters between the two\n",
    "        \"\"\"\n",
    "        if strategy=='beta':\n",
    "            n = int(np.random.beta(a,b)*len(a1.genome))\n",
    "            new_genome = np.concatenate((a1.genome[0:n], a2.genome[n:]))\n",
    "            avg_fitness = (a1.fitness+a2.fitness)/2\n",
    "            return Agent(new_genome, fitness=np.random.normal(avg_fitness, scale=self.novelty_factor/(1+avg_fitness)))\n",
    "        if strategy=='xor':\n",
    "            return Agent(np.logical_xor(a1.genome, a2.genome), fitness=np.random.normal(avg_fitness, scale=self.novelty_factor/(1+avg_fitness)))\n",
    "    \n",
    "    def es_iter(self, agents: Optional['np.array']=None, population_size: int=100, mu: int=30, strategy='comma', p=0.001) -> None:\n",
    "        \n",
    "        if agents is None:\n",
    "            self.agents = np.partition(self.agents, population_size-mu)[population_size-mu:] # selective pressure, takes top mu agents\n",
    "        else:\n",
    "            self.agents = agents\n",
    "\n",
    "        if strategy == 'comma':\n",
    "            num_children = population_size\n",
    "        else:\n",
    "            num_children = population_size-mu\n",
    "        \n",
    "        parents = np.random.choice(self.agents, num_children)\n",
    "        children = np.array([self.mutate(a, p) for a in parents])\n",
    "        if strategy == 'comma':\n",
    "            self.agents = children\n",
    "        else:\n",
    "            self.agents = np.concatenate((children, self.agents))\n",
    "    \n",
    "    def ga_iter(self, agents: Optional['np.array']=None, population_size: int=100, mu: int=30, strategy='comma', p=0.001, a_beta=1, b_beta=999) -> None:\n",
    "        \n",
    "        if agents is None:\n",
    "            self.agents = np.partition(self.agents, population_size-mu)[population_size-mu:] # selective pressure, takes top mu agents\n",
    "        else:\n",
    "            self.agents = agents\n",
    "\n",
    "\n",
    "        if strategy == 'comma':\n",
    "            num_children = population_size\n",
    "        else:\n",
    "            num_children = population_size-mu\n",
    "        \n",
    "        \n",
    "        parents = np.random.choice(self.agents, num_children)\n",
    "        children = [self.crossover(a[0], a[1], a_beta, b_beta) for a in np.random.choice(parents, (num_children, 2))]\n",
    "        children = np.array([self.mutate(a, p) for a in children])\n",
    "        if strategy == 'comma':\n",
    "            self.agents = children\n",
    "        else:\n",
    "            self.agents = np.concatenate((children, self.agents))\n",
    "    \n",
    "    def es(self, n_generations: int=100, population_size: int=100, mu: int=30, strategy='comma', p=0.001) -> None:\n",
    "        self.is_island = False\n",
    "        self.agents: 'np.array' = np.array([Agent() for _ in range(population_size)])\n",
    "        for gen in tqdm(range(n_generations)):\n",
    "            self.calculate_fitness(explicit=gen%self.period_true_fitness==0)\n",
    "            self.es_iter(population_size=population_size, mu=mu, strategy=strategy, p=p)\n",
    "        self.calculate_fitness()\n",
    "    \n",
    "    def genetic_algorithm(self, n_generations: int=100, population_size: int=100, mu: int=30, strategy='comma', p=0.001, a_beta=1, b_beta=999) -> None:\n",
    "        self.is_island = False\n",
    "        self.agents: 'np.array' = np.array([Agent() for _ in range(population_size)])\n",
    "        flatness_factor = 1\n",
    "        for gen in tqdm(range(n_generations)):\n",
    "            self.calculate_fitness(explicit=gen%self.period_true_fitness==0)\n",
    "            if gen > n_generations//10:\n",
    "                flatness_factor = np.var(self.fitness_list[gen-n_generations//10:])+1e-3\n",
    "            self.ga_iter(population_size=population_size, mu=mu, strategy=strategy, p=min(0.5,p/flatness_factor), a_beta=a_beta, b_beta=b_beta)\n",
    "        self.calculate_fitness()\n",
    "    \n",
    "    def migrate(self, migration_size: int=1, hierarchical: bool=False) -> 'np.array':\n",
    "        if hierarchical:\n",
    "            population_size = len(self.agents)\n",
    "            # migrants = np.partition(self.agents, population_size-migration_size)[population_size-migration_size:], np.partition(self.agents, migration_size)[:migration_size]\n",
    "            migrants_indeces = np.concatenate([np.argpartition(self.agents, population_size-migration_size)[population_size-migration_size:], np.argpartition(self.agents, migration_size)[:migration_size]])\n",
    "            best_indeces, worse_indeces = np.argpartition(self.agents, population_size-migration_size)[population_size-migration_size:], np.argpartition(self.agents, migration_size)[:migration_size]\n",
    "            best_migrants = self.agents[best_indeces]\n",
    "            worse_migrants = self.agents[worse_indeces]\n",
    "            migrants = best_migrants, worse_migrants\n",
    "            self.agents = self.agents[np.in1d(np.arange(len(self.agents)), np.concatenate([best_indeces, worse_indeces]), invert=True)]\n",
    "        else:\n",
    "            migrants_indeces = np.random.choice(np.arange(len(self.agents)), migration_size, replace=False)\n",
    "            migrants = self.agents[migrants_indeces]\n",
    "            self.agents = self.agents[np.in1d(np.arange(len(self.agents)), migrants_indeces, invert=True)]\n",
    "\n",
    "        return migrants\n",
    "    \n",
    "    def receive_migrants(self, migrants: 'np.array'):\n",
    "        self.agents = np.concatenate((self.agents, migrants))\n",
    "    \n",
    "    def island_model(self, n_generations: int=100, migration_period: int=1, migration_size: int=1, island_size: int=10, n_islands: int = 10, mu_island: int=3, strategy='comma', p=0.001, a_beta=1, b_beta=999, replace=False, hierarchical=False, mode='ga'):\n",
    "        self.is_island = True\n",
    "        self.islands: 'np.array' = [EvolutionTask(self.fitness, period_true_fitness=self.period_true_fitness) for _ in range(n_islands)]\n",
    "        flatness_factor = 1\n",
    "        for i in tqdm(range(n_generations)):\n",
    "            if i > n_generations//10:\n",
    "                flatness_factor = np.var(self.fitness_list[i-n_generations//10:])+1e-3\n",
    "            for island in self.islands:\n",
    "                if i == 0:\n",
    "                    island.agents=np.array([Agent() for _ in range(island_size)])\n",
    "                    if mode=='ga':\n",
    "                        island.ga_iter(population_size=island_size, mu=mu_island, strategy=strategy, p=p, a_beta=a_beta, b_beta=b_beta)\n",
    "                    else:\n",
    "                        island.es_iter(population_size=island_size, mu=mu_island, strategy=strategy, p=p)\n",
    "                else:\n",
    "                    if mode=='ga':\n",
    "                        island.ga_iter(population_size=island_size, mu=mu_island, strategy=strategy, p=p/flatness_factor, a_beta=a_beta, b_beta=b_beta)\n",
    "                    else:\n",
    "                        island.es_iter(population_size=island_size, mu=mu_island, strategy=strategy, p=p)\n",
    "            if i%migration_period==0:\n",
    "                if hierarchical:\n",
    "                    for j, island in enumerate(self.islands):\n",
    "                        best, worse = island.migrate(migration_size, hierarchical)\n",
    "                        if j==0:\n",
    "                            previous_worse = worse\n",
    "                            previous_island = island\n",
    "                            island.receive_migrants(best)\n",
    "                        elif j==len(self.islands)-1:\n",
    "                            island.receive_migrants(previous_worse)\n",
    "                            island.receive_migrants(worse)\n",
    "                            previous_island.receive_migrants(best)\n",
    "                        else:\n",
    "                            island.receive_migrants(previous_worse)\n",
    "                            previous_island.receive_migrants(best)\n",
    "                            previous_island=island\n",
    "                else:\n",
    "                    migrants = np.concatenate([island.migrate(migration_size) for island in self.islands])\n",
    "                    migrants = np.random.choice(migrants, size=(n_islands, migration_size), replace=replace)\n",
    "                    for j, island in enumerate(self.islands):\n",
    "                        island.receive_migrants(migrants[j,:])\n",
    "            for island in self.islands:\n",
    "                if len(island.agents) != island_size:\n",
    "                    raise UserWarning(f'Bug in code, wrong island size: {len(island.agents)} != {island_size}')\n",
    "                island.calculate_fitness(explicit=i%self.period_true_fitness==0)\n",
    "        for island in self.islands:\n",
    "            island.calculate_fitness()\n",
    "    \n",
    "    def plot_fitness(self) -> None:\n",
    "        if self.is_island:\n",
    "            best_island_idx = np.argmax([isle.best_fitness for isle in self.islands])\n",
    "            self.islands[best_island_idx].plot_fitness()\n",
    "        plt.plot(self.fitness_list)\n",
    "    \n",
    "    @property\n",
    "    def best_fitness(self) -> float:\n",
    "        if self.is_island:\n",
    "            return max([island.best_fitness for island in self.islands])\n",
    "        return max(self.fitness_list)\n",
    "    \n",
    "    @best_fitness.setter\n",
    "    def best_fitness(self, f) -> None:\n",
    "        self._best_fitness = f\n",
    "    \n",
    "    @property\n",
    "    def fitness_calls(self) -> int:\n",
    "        return self.fitness.calls"
   ]
  },
  {
   "cell_type": "code",
   "execution_count": 5,
   "metadata": {},
   "outputs": [
    {
     "name": "stderr",
     "output_type": "stream",
     "text": [
      " 10%|█         | 201/2000 [00:44<05:02,  5.95it/s]c:\\Users\\Gian Luca Foresti\\AppData\\Local\\Programs\\Python\\Python310\\lib\\site-packages\\numpy\\core\\fromnumeric.py:3715: RuntimeWarning: Degrees of freedom <= 0 for slice\n",
      "  return _methods._var(a, axis=axis, dtype=dtype, out=out, ddof=ddof,\n",
      "c:\\Users\\Gian Luca Foresti\\AppData\\Local\\Programs\\Python\\Python310\\lib\\site-packages\\numpy\\core\\_methods.py:223: RuntimeWarning: invalid value encountered in divide\n",
      "  arrmean = um.true_divide(arrmean, div, out=arrmean, casting='unsafe',\n",
      "c:\\Users\\Gian Luca Foresti\\AppData\\Local\\Programs\\Python\\Python310\\lib\\site-packages\\numpy\\core\\_methods.py:257: RuntimeWarning: invalid value encountered in double_scalars\n",
      "  ret = ret.dtype.type(ret / rcount)\n",
      "100%|██████████| 2000/2000 [07:17<00:00,  4.57it/s]"
     ]
    },
    {
     "name": "stdout",
     "output_type": "stream",
     "text": [
      "1.0 600300\n"
     ]
    },
    {
     "name": "stderr",
     "output_type": "stream",
     "text": [
      "\n"
     ]
    },
    {
     "data": {
      "image/png": "[encoded data removed]",
      "text/plain": [
       "<Figure size 640x480 with 1 Axes>"
      ]
     },
     "metadata": {},
     "output_type": "display_data"
    }
   ],
   "source": [
    "fitness = lab9_lib.make_problem(1)\n",
    "et = EvolutionTask(fitness, period_true_fitness=1)\n",
    "et.island_model(n_generations=2000, n_islands=3, mu_island=30, migration_size=10, island_size=100, strategy='plus', hierarchical=True, migration_period=2, mode='es')\n",
    "et.plot_fitness()\n",
    "print(et.best_fitness, fitness.calls)"
   ]
  },
  {
   "cell_type": "code",
   "execution_count": 6,
   "metadata": {},
   "outputs": [
    {
     "name": "stderr",
     "output_type": "stream",
     "text": [
      "  0%|          | 0/2000 [00:00<?, ?it/s]"
     ]
    },
    {
     "name": "stderr",
     "output_type": "stream",
     "text": [
      "100%|██████████| 2000/2000 [06:27<00:00,  5.17it/s]\n"
     ]
    },
    {
     "name": "stdout",
     "output_type": "stream",
     "text": [
      "0.972 600300\n"
     ]
    },
    {
     "data": {
      "image/png": "[encoded data removed]",
      "text/plain": [
       "<Figure size 640x480 with 1 Axes>"
      ]
     },
     "metadata": {},
     "output_type": "display_data"
    }
   ],
   "source": [
    "fitness = lab9_lib.make_problem(2)\n",
    "et = EvolutionTask(fitness, period_true_fitness=1)\n",
    "et.island_model(n_generations=2000, n_islands=3, mu_island=30, migration_size=10, island_size=100, strategy='plus', hierarchical=True, migration_period=2, mode='es')\n",
    "et.plot_fitness()\n",
    "print(et.best_fitness, fitness.calls)"
   ]
  },
  {
   "cell_type": "code",
   "execution_count": 7,
   "metadata": {},
   "outputs": [
    {
     "name": "stderr",
     "output_type": "stream",
     "text": [
      " 61%|██████    | 1217/2000 [03:54<02:58,  4.39it/s]"
     ]
    }
   ],
   "source": [
    "fitness = lab9_lib.make_problem(5)\n",
    "et = EvolutionTask(fitness, period_true_fitness=1)\n",
    "et.island_model(n_generations=2000, n_islands=3, mu_island=30, migration_size=10, island_size=100, strategy='plus', hierarchical=True, migration_period=2, mode='es')\n",
    "et.plot_fitness()\n",
    "print(et.best_fitness, fitness.calls)"
   ]
  },
  {
   "cell_type": "code",
   "execution_count": null,
   "metadata": {},
   "outputs": [],
   "source": [
    "fitness = lab9_lib.make_problem(10)\n",
    "et = EvolutionTask(fitness, period_true_fitness=1)\n",
    "et.island_model(n_generations=2000, n_islands=3, mu_island=30, migration_size=10, island_size=100, strategy='plus', hierarchical=True, migration_period=2, mode='es')\n",
    "et.plot_fitness()\n",
    "print(et.best_fitness, fitness.calls)"
   ]
  }
 ],
 "metadata": {
  "kernelspec": {
   "display_name": "ci-fLJ3OwGs-py3.12",
   "language": "python",
   "name": "python3"
  },
  "language_info": {
   "codemirror_mode": {
    "name": "ipython",
    "version": 3
   },
   "file_extension": ".py",
   "mimetype": "text/x-python",
   "name": "python",
   "nbconvert_exporter": "python",
   "pygments_lexer": "ipython3",
   "version": "3.10.5"
  }
 },
 "nbformat": 4,
 "nbformat_minor": 2
}
