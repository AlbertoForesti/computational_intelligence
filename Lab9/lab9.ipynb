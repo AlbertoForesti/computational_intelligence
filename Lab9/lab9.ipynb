{
 "cells": [
  {
   "cell_type": "markdown",
   "metadata": {},
   "source": [
    "Copyright **`(c)`** 2023 Giovanni Squillero `<giovanni.squillero@polito.it>`  \n",
    "[`https://github.com/squillero/computational-intelligence`](https://github.com/squillero/computational-intelligence)  \n",
    "Free for personal or classroom use; see [`LICENSE.md`](https://github.com/squillero/computational-intelligence/blob/master/LICENSE.md) for details.  "
   ]
  },
  {
   "cell_type": "markdown",
   "metadata": {},
   "source": [
    "# LAB9\n",
    "\n",
    "Write a local-search algorithm (eg. an EA) able to solve the *Problem* instances 1, 2, 5, and 10 on a 1000-loci genomes, using a minimum number of fitness calls. That's all.\n",
    "\n",
    "### Deadlines:\n",
    "\n",
    "* Submission: Sunday, December 3 ([CET](https://www.timeanddate.com/time/zones/cet))\n",
    "* Reviews: Sunday, December 10 ([CET](https://www.timeanddate.com/time/zones/cet))\n",
    "\n",
    "Notes:\n",
    "\n",
    "* Reviews will be assigned  on Monday, December 4\n",
    "* You need to commit in order to be selected as a reviewer (ie. better to commit an empty work than not to commit)"
   ]
  },
  {
   "cell_type": "code",
   "execution_count": 309,
   "metadata": {},
   "outputs": [],
   "source": [
    "from random import choices\n",
    "\n",
    "import lab9_lib"
   ]
  },
  {
   "cell_type": "code",
   "execution_count": 310,
   "metadata": {},
   "outputs": [
    {
     "name": "stdout",
     "output_type": "stream",
     "text": [
      "00010111101011100001001110000011110110111000010001: 7.33%\n",
      "00011010001101011111110111101111000011101001110001: 23.33%\n",
      "11110010011011101011100011000100100110110001101100: 15.33%\n",
      "00001001111011011010001000110100110001010100000011: 7.33%\n",
      "01111010110111101000010011000101110011100110000101: 9.13%\n",
      "11010111000101101001000010101001100000101101101100: 15.34%\n",
      "00111111001110011110101001111000011000100010010100: 23.34%\n",
      "00011010011010001011000000001100010001110000101000: 7.34%\n",
      "01010101110000111011110000110111111000101011111110: 7.33%\n",
      "00001000001001100100110101110101100110110000010001: 11.56%\n",
      "10\n"
     ]
    }
   ],
   "source": [
    "fitness = lab9_lib.make_problem(10)\n",
    "for n in range(10):\n",
    "    ind = choices([0, 1], k=50)\n",
    "    print(f\"{''.join(str(g) for g in ind)}: {fitness(ind):.2%}\")\n",
    "\n",
    "print(fitness.calls)"
   ]
  },
  {
   "cell_type": "code",
   "execution_count": 311,
   "metadata": {},
   "outputs": [],
   "source": [
    "import numpy as np\n",
    "import numpy.typing as npt\n",
    "import networkx as nx\n",
    "from typing import List, Tuple, Optional, Callable, Union\n",
    "from itertools import chain, combinations\n",
    "from functools import reduce\n",
    "from tqdm import tqdm\n",
    "from matplotlib import pyplot as plt\n",
    "\n",
    "class Agent:\n",
    "\n",
    "    def __init__(self, genome: Optional[np.array] = None, num_loci: int = 1000, fitness: int = 0) -> None:\n",
    "        \"\"\"\n",
    "        num_rows: number of rows of the game\n",
    "        genome: initial parameters\n",
    "        k: largest number of piles it can take\n",
    "        \"\"\"\n",
    "        if genome is None:\n",
    "            self._genome = np.random.choice([0,1], num_loci)\n",
    "        else:\n",
    "            self._genome = genome\n",
    "        \n",
    "        self.fitness = fitness\n",
    "        self.explicit_fitness = False\n",
    "    \n",
    "    def __lt__(self, other: 'Agent'):\n",
    "        return self._fitness < other._fitness\n",
    "\n",
    "    def __hash__(self):\n",
    "        return hash(str(self._genome))\n",
    "\n",
    "    def __eq__(self, other):\n",
    "        if isinstance(other, Agent):\n",
    "            return str(self._genome) == str(other._genome)\n",
    "        return False\n",
    "\n",
    "    @property\n",
    "    def genome(self):\n",
    "        return self._genome\n",
    "\n",
    "    @genome.setter\n",
    "    def genome(self, p):\n",
    "        self._genome = p\n",
    "    \n",
    "    @property\n",
    "    def fitness(self):\n",
    "        return self._fitness\n",
    "\n",
    "    @fitness.setter\n",
    "    def fitness(self, fitness: float):\n",
    "        self._fitness = fitness\n",
    "        self.explicit_fitness = True\n",
    "    \n",
    "    def set_implicit_fitness(self, fitness: float):\n",
    "        self._fitness = fitness\n",
    "        self.explicit_fitness = False\n",
    "    \n",
    "    def reset(self):\n",
    "        self.fitness = 0\n",
    "    \n",
    "    def __iadd__(self, other) -> None:\n",
    "        self._genome += other\n",
    "\n",
    "\n",
    "class EvolutionTask:\n",
    "\n",
    "    def __init__(self, fitness: 'Problem', period_true_fitness: int = 5, sample_size_fitness: int = 10, novelty_factor: float = 0.01) -> None:\n",
    "        self.is_island = False\n",
    "        self.fitness = fitness\n",
    "        self.best_fitness = 0\n",
    "        self.fitness_list = []\n",
    "        self.similarity_matrix = None\n",
    "        self.set_fitness_calculation_params(period_true_fitness, sample_size_fitness, novelty_factor)\n",
    "    \n",
    "    def set_fitness_calculation_params(self, period_true_fitness: int = 5, sample_size_fitness: int = 10, novelty_factor: float = 1) -> None:\n",
    "        self.period_true_fitness = period_true_fitness\n",
    "        self.sample_size_fitness = sample_size_fitness\n",
    "        self.novelty_factor = novelty_factor\n",
    "    \n",
    "    def mutate(self, agent: Agent, p: float = 0.001) -> Agent:\n",
    "        \"\"\"\n",
    "        Mutates loci with random flipping and returns a new agent\n",
    "        \"\"\"\n",
    "        new_genome = []\n",
    "        for locus in agent.genome:\n",
    "            if np.random.rand()<p:\n",
    "                new_genome.append(1-locus)\n",
    "            else:\n",
    "                new_genome.append(locus)\n",
    "        return Agent(np.array(new_genome), np.random.normal(agent.fitness, scale=self.novelty_factor/(1+agent.fitness)))\n",
    "\n",
    "    def calculate_fitness(self, explicit: bool=True) -> None:\n",
    "        \"\"\"\n",
    "        Calculates the fitness of the current population\n",
    "        \"\"\"\n",
    "        if explicit:\n",
    "            best_in_gen = 0\n",
    "            for agent in self.agents:\n",
    "                agent.fitness = self.fitness(agent.genome)\n",
    "                if agent.fitness > best_in_gen:\n",
    "                    best_in_gen = agent.fitness\n",
    "            self.fitness_list.append(best_in_gen)\n",
    "        else:\n",
    "            self.fitness_list.append(self.fitness_list[-1])\n",
    "\n",
    "    \n",
    "    def crossover(self, a1: Agent, a2: Agent, a: float=1, b: float=999) -> Agent:\n",
    "        \"\"\"\n",
    "        Given two agents it randomly selects the parameters between the two\n",
    "        \"\"\"\n",
    "        n = int(np.random.beta(a,b)*len(a1.genome))\n",
    "        new_genome = np.concatenate((a1.genome[0:n], a2.genome[n:]))\n",
    "        avg_fitness = (a1.fitness+a2.fitness)/2\n",
    "        return Agent(new_genome, fitness=np.random.normal(avg_fitness, scale=self.novelty_factor/(1+avg_fitness)))\n",
    "    \n",
    "    def es_iter(self, agents: Optional['np.array']=None, population_size: int=100, mu: int=30, strategy='comma', p=0.001) -> None:\n",
    "        \n",
    "        if agents is None:\n",
    "            self.agents = np.partition(self.agents, population_size-mu)[population_size-mu:] # selective pressure, takes top mu agents\n",
    "        else:\n",
    "            self.agents = agents\n",
    "\n",
    "        if strategy == 'comma':\n",
    "            num_children = population_size\n",
    "        else:\n",
    "            num_children = population_size-mu\n",
    "        \n",
    "        parents = np.random.choice(self.agents, num_children)\n",
    "        children = np.array([self.mutate(a, p) for a in parents])\n",
    "        if strategy == 'comma':\n",
    "            self.agents = children\n",
    "        else:\n",
    "            self.agents = np.concatenate((children, self.agents))\n",
    "    \n",
    "    def ga_iter(self, agents: Optional['np.array']=None, population_size: int=100, mu: int=30, strategy='comma', p=0.001, a_beta=1, b_beta=999) -> None:\n",
    "        \n",
    "        if agents is None:\n",
    "            self.agents = np.partition(self.agents, population_size-mu)[population_size-mu:] # selective pressure, takes top mu agents\n",
    "        else:\n",
    "            self.agents = agents\n",
    "\n",
    "\n",
    "        if strategy == 'comma':\n",
    "            num_children = population_size\n",
    "        else:\n",
    "            num_children = population_size-mu\n",
    "        \n",
    "        \n",
    "        parents = np.random.choice(self.agents, num_children)\n",
    "        children = [self.crossover(a[0], a[1], a_beta, b_beta) for a in np.random.choice(parents, (num_children, 2))]\n",
    "        children = np.array([self.mutate(a, p) for a in children])\n",
    "        if strategy == 'comma':\n",
    "            self.agents = children\n",
    "        else:\n",
    "            self.agents = np.concatenate((children, self.agents))\n",
    "    \n",
    "    def es(self, n_generations: int=100, population_size: int=100, mu: int=30, strategy='comma', p=0.001) -> None:\n",
    "        self.is_island = False\n",
    "        self.agents: 'np.array' = np.array([Agent() for _ in range(population_size)])\n",
    "        for gen in tqdm(range(n_generations)):\n",
    "            self.calculate_fitness(explicit=gen%self.period_true_fitness==0)\n",
    "            self.es_iter(population_size=population_size, mu=mu, strategy=strategy, p=p)\n",
    "        self.calculate_fitness()\n",
    "    \n",
    "    def genetic_algorithm(self, n_generations: int=100, population_size: int=100, mu: int=30, strategy='comma', p=0.001, a_beta=1, b_beta=999) -> None:\n",
    "        self.is_island = False\n",
    "        self.agents: 'np.array' = np.array([Agent() for _ in range(population_size)])\n",
    "        flatness_factor = 1\n",
    "        for gen in tqdm(range(n_generations)):\n",
    "            self.calculate_fitness(explicit=gen%self.period_true_fitness==0)\n",
    "            if gen > n_generations//10:\n",
    "                flatness_factor = np.var(self.fitness_list[gen-n_generations//10:])+1e-3\n",
    "            self.ga_iter(population_size=population_size, mu=mu, strategy=strategy, p=min(0.5,p/flatness_factor), a_beta=a_beta, b_beta=b_beta)\n",
    "        self.calculate_fitness()\n",
    "    \n",
    "    def migrate(self, migration_size: int=1, hierarchical: bool=False) -> 'np.array':\n",
    "        if hierarchical:\n",
    "            population_size = len(self.agents)\n",
    "            # migrants = np.partition(self.agents, population_size-migration_size)[population_size-migration_size:], np.partition(self.agents, migration_size)[:migration_size]\n",
    "            migrants_indeces = np.concatenate([np.argpartition(self.agents, population_size-migration_size)[population_size-migration_size:], np.argpartition(self.agents, migration_size)[:migration_size]])\n",
    "            best_indeces, worse_indeces = np.argpartition(self.agents, population_size-migration_size)[population_size-migration_size:], np.argpartition(self.agents, migration_size)[:migration_size]\n",
    "            best_migrants = self.agents[best_indeces]\n",
    "            worse_migrants = self.agents[worse_indeces]\n",
    "            migrants = best_migrants, worse_migrants\n",
    "            self.agents = self.agents[np.in1d(np.arange(len(self.agents)), np.concatenate([best_indeces, worse_indeces]), invert=True)]\n",
    "        else:\n",
    "            migrants_indeces = np.random.choice(np.arange(len(self.agents)), migration_size, replace=False)\n",
    "            migrants = self.agents[migrants_indeces]\n",
    "            self.agents = self.agents[np.in1d(np.arange(len(self.agents)), migrants_indeces, invert=True)]\n",
    "\n",
    "        return migrants\n",
    "    \n",
    "    def receive_migrants(self, migrants: 'np.array'):\n",
    "        self.agents = np.concatenate((self.agents, migrants))\n",
    "    \n",
    "    def island_model(self, n_generations: int=100, migration_period: int=1, migration_size: int=1, island_size: int=10, n_islands: int = 10, mu_island: int=3, strategy='comma', p=0.001, a_beta=1, b_beta=999, replace=False, hierarchical=False, mode='ga'):\n",
    "        self.is_island = True\n",
    "        self.islands: 'np.array' = [EvolutionTask(self.fitness, period_true_fitness=self.period_true_fitness) for _ in range(n_islands)]\n",
    "        flatness_factor = 1\n",
    "        for i in tqdm(range(n_generations)):\n",
    "            if i > n_generations//10:\n",
    "                flatness_factor = np.var(self.fitness_list[i-n_generations//10:])+1e-3\n",
    "            for island in self.islands:\n",
    "                if i == 0:\n",
    "                    island.agents=np.array([Agent() for _ in range(island_size)])\n",
    "                    if mode=='ga':\n",
    "                        island.ga_iter(population_size=island_size, mu=mu_island, strategy=strategy, p=p, a_beta=a_beta, b_beta=b_beta)\n",
    "                    else:\n",
    "                        island.es_iter(population_size=island_size, mu=mu_island, strategy=strategy, p=p)\n",
    "                else:\n",
    "                    if mode=='ga':\n",
    "                        island.ga_iter(population_size=island_size, mu=mu_island, strategy=strategy, p=p/flatness_factor, a_beta=a_beta, b_beta=b_beta)\n",
    "                    else:\n",
    "                        island.es_iter(population_size=island_size, mu=mu_island, strategy=strategy, p=p)\n",
    "            if i%migration_period==0:\n",
    "                if hierarchical:\n",
    "                    for j, island in enumerate(self.islands):\n",
    "                        best, worse = island.migrate(migration_size, hierarchical)\n",
    "                        if j==0:\n",
    "                            previous_worse = worse\n",
    "                            previous_island = island\n",
    "                            island.receive_migrants(best)\n",
    "                        elif j==len(self.islands)-1:\n",
    "                            island.receive_migrants(previous_worse)\n",
    "                            island.receive_migrants(worse)\n",
    "                            previous_island.receive_migrants(best)\n",
    "                        else:\n",
    "                            island.receive_migrants(previous_worse)\n",
    "                            previous_island.receive_migrants(best)\n",
    "                            previous_island=island\n",
    "                else:\n",
    "                    migrants = np.concatenate([island.migrate(migration_size) for island in self.islands])\n",
    "                    migrants = np.random.choice(migrants, size=(n_islands, migration_size), replace=replace)\n",
    "                    for j, island in enumerate(self.islands):\n",
    "                        island.receive_migrants(migrants[j,:])\n",
    "            for island in self.islands:\n",
    "                if len(island.agents) != island_size:\n",
    "                    raise UserWarning(f'Bug in code, wrong island size: {len(island.agents)} != {island_size}')\n",
    "                island.calculate_fitness(explicit=i%self.period_true_fitness==0)\n",
    "        for island in self.islands:\n",
    "            island.calculate_fitness()\n",
    "    \n",
    "    def plot_fitness(self) -> None:\n",
    "        if self.is_island:\n",
    "            best_island_idx = np.argmax([isle.best_fitness for isle in self.islands])\n",
    "            self.islands[best_island_idx].plot_fitness()\n",
    "        plt.plot(self.fitness_list)\n",
    "    \n",
    "    @property\n",
    "    def best_fitness(self) -> float:\n",
    "        if self.is_island:\n",
    "            return max([island.best_fitness for island in self.islands])\n",
    "        return max(self.fitness_list)\n",
    "    \n",
    "    @best_fitness.setter\n",
    "    def best_fitness(self, f) -> None:\n",
    "        self._best_fitness = f\n",
    "    \n",
    "    @property\n",
    "    def fitness_calls(self) -> int:\n",
    "        return self.fitness.calls"
   ]
  },
  {
   "cell_type": "code",
   "execution_count": 312,
   "metadata": {},
   "outputs": [
    {
     "name": "stderr",
     "output_type": "stream",
     "text": [
      "  0%|          | 0/1000 [00:00<?, ?it/s]"
     ]
    },
    {
     "name": "stderr",
     "output_type": "stream",
     "text": [
      "  4%|▍         | 44/1000 [00:04<01:32, 10.29it/s]\n"
     ]
    },
    {
     "ename": "KeyboardInterrupt",
     "evalue": "",
     "output_type": "error",
     "traceback": [
      "\u001b[1;31m---------------------------------------------------------------------------\u001b[0m",
      "\u001b[1;31mKeyboardInterrupt\u001b[0m                         Traceback (most recent call last)",
      "\u001b[1;32mc:\\Users\\Gian Luca Foresti\\Desktop\\Materiale Uni\\5 - anno\\CI\\Lab9\\lab9.ipynb Cell 6\u001b[0m line \u001b[0;36m3\n\u001b[0;32m      <a href='vscode-notebook-cell:/c%3A/Users/Gian%20Luca%20Foresti/Desktop/Materiale%20Uni/5%20-%20anno/CI/Lab9/lab9.ipynb#W5sZmlsZQ%3D%3D?line=0'>1</a>\u001b[0m fitness \u001b[39m=\u001b[39m lab9_lib\u001b[39m.\u001b[39mmake_problem(\u001b[39m5\u001b[39m)\n\u001b[0;32m      <a href='vscode-notebook-cell:/c%3A/Users/Gian%20Luca%20Foresti/Desktop/Materiale%20Uni/5%20-%20anno/CI/Lab9/lab9.ipynb#W5sZmlsZQ%3D%3D?line=1'>2</a>\u001b[0m et \u001b[39m=\u001b[39m EvolutionTask(fitness, period_true_fitness\u001b[39m=\u001b[39m\u001b[39m1\u001b[39m)\n\u001b[1;32m----> <a href='vscode-notebook-cell:/c%3A/Users/Gian%20Luca%20Foresti/Desktop/Materiale%20Uni/5%20-%20anno/CI/Lab9/lab9.ipynb#W5sZmlsZQ%3D%3D?line=2'>3</a>\u001b[0m et\u001b[39m.\u001b[39mes(n_generations\u001b[39m=\u001b[39m\u001b[39m1000\u001b[39m, mu\u001b[39m=\u001b[39m\u001b[39m30\u001b[39m, population_size\u001b[39m=\u001b[39m\u001b[39m100\u001b[39m, strategy\u001b[39m=\u001b[39m\u001b[39m'\u001b[39m\u001b[39mplus\u001b[39m\u001b[39m'\u001b[39m)\n\u001b[0;32m      <a href='vscode-notebook-cell:/c%3A/Users/Gian%20Luca%20Foresti/Desktop/Materiale%20Uni/5%20-%20anno/CI/Lab9/lab9.ipynb#W5sZmlsZQ%3D%3D?line=3'>4</a>\u001b[0m et\u001b[39m.\u001b[39mplot_fitness()\n\u001b[0;32m      <a href='vscode-notebook-cell:/c%3A/Users/Gian%20Luca%20Foresti/Desktop/Materiale%20Uni/5%20-%20anno/CI/Lab9/lab9.ipynb#W5sZmlsZQ%3D%3D?line=4'>5</a>\u001b[0m \u001b[39mprint\u001b[39m(et\u001b[39m.\u001b[39mbest_fitness, fitness\u001b[39m.\u001b[39mcalls)\n",
      "\u001b[1;32mc:\\Users\\Gian Luca Foresti\\Desktop\\Materiale Uni\\5 - anno\\CI\\Lab9\\lab9.ipynb Cell 6\u001b[0m line \u001b[0;36m1\n\u001b[0;32m    <a href='vscode-notebook-cell:/c%3A/Users/Gian%20Luca%20Foresti/Desktop/Materiale%20Uni/5%20-%20anno/CI/Lab9/lab9.ipynb#W5sZmlsZQ%3D%3D?line=159'>160</a>\u001b[0m \u001b[39mfor\u001b[39;00m gen \u001b[39min\u001b[39;00m tqdm(\u001b[39mrange\u001b[39m(n_generations)):\n\u001b[0;32m    <a href='vscode-notebook-cell:/c%3A/Users/Gian%20Luca%20Foresti/Desktop/Materiale%20Uni/5%20-%20anno/CI/Lab9/lab9.ipynb#W5sZmlsZQ%3D%3D?line=160'>161</a>\u001b[0m     \u001b[39mself\u001b[39m\u001b[39m.\u001b[39mcalculate_fitness(explicit\u001b[39m=\u001b[39mgen\u001b[39m%\u001b[39m\u001b[39mself\u001b[39m\u001b[39m.\u001b[39mperiod_true_fitness\u001b[39m==\u001b[39m\u001b[39m0\u001b[39m)\n\u001b[1;32m--> <a href='vscode-notebook-cell:/c%3A/Users/Gian%20Luca%20Foresti/Desktop/Materiale%20Uni/5%20-%20anno/CI/Lab9/lab9.ipynb#W5sZmlsZQ%3D%3D?line=161'>162</a>\u001b[0m     \u001b[39mself\u001b[39;49m\u001b[39m.\u001b[39;49mes_iter(population_size\u001b[39m=\u001b[39;49mpopulation_size, mu\u001b[39m=\u001b[39;49mmu, strategy\u001b[39m=\u001b[39;49mstrategy, p\u001b[39m=\u001b[39;49mp)\n\u001b[0;32m    <a href='vscode-notebook-cell:/c%3A/Users/Gian%20Luca%20Foresti/Desktop/Materiale%20Uni/5%20-%20anno/CI/Lab9/lab9.ipynb#W5sZmlsZQ%3D%3D?line=162'>163</a>\u001b[0m \u001b[39mself\u001b[39m\u001b[39m.\u001b[39mcalculate_fitness()\n",
      "\u001b[1;32mc:\\Users\\Gian Luca Foresti\\Desktop\\Materiale Uni\\5 - anno\\CI\\Lab9\\lab9.ipynb Cell 6\u001b[0m line \u001b[0;36m1\n\u001b[0;32m    <a href='vscode-notebook-cell:/c%3A/Users/Gian%20Luca%20Foresti/Desktop/Materiale%20Uni/5%20-%20anno/CI/Lab9/lab9.ipynb#W5sZmlsZQ%3D%3D?line=125'>126</a>\u001b[0m     num_children \u001b[39m=\u001b[39m population_size\u001b[39m-\u001b[39mmu\n\u001b[0;32m    <a href='vscode-notebook-cell:/c%3A/Users/Gian%20Luca%20Foresti/Desktop/Materiale%20Uni/5%20-%20anno/CI/Lab9/lab9.ipynb#W5sZmlsZQ%3D%3D?line=127'>128</a>\u001b[0m parents \u001b[39m=\u001b[39m np\u001b[39m.\u001b[39mrandom\u001b[39m.\u001b[39mchoice(\u001b[39mself\u001b[39m\u001b[39m.\u001b[39magents, num_children)\n\u001b[1;32m--> <a href='vscode-notebook-cell:/c%3A/Users/Gian%20Luca%20Foresti/Desktop/Materiale%20Uni/5%20-%20anno/CI/Lab9/lab9.ipynb#W5sZmlsZQ%3D%3D?line=128'>129</a>\u001b[0m children \u001b[39m=\u001b[39m np\u001b[39m.\u001b[39marray([\u001b[39mself\u001b[39m\u001b[39m.\u001b[39mmutate(a, p) \u001b[39mfor\u001b[39;00m a \u001b[39min\u001b[39;00m parents])\n\u001b[0;32m    <a href='vscode-notebook-cell:/c%3A/Users/Gian%20Luca%20Foresti/Desktop/Materiale%20Uni/5%20-%20anno/CI/Lab9/lab9.ipynb#W5sZmlsZQ%3D%3D?line=129'>130</a>\u001b[0m \u001b[39mif\u001b[39;00m strategy \u001b[39m==\u001b[39m \u001b[39m'\u001b[39m\u001b[39mcomma\u001b[39m\u001b[39m'\u001b[39m:\n\u001b[0;32m    <a href='vscode-notebook-cell:/c%3A/Users/Gian%20Luca%20Foresti/Desktop/Materiale%20Uni/5%20-%20anno/CI/Lab9/lab9.ipynb#W5sZmlsZQ%3D%3D?line=130'>131</a>\u001b[0m     \u001b[39mself\u001b[39m\u001b[39m.\u001b[39magents \u001b[39m=\u001b[39m children\n",
      "\u001b[1;32mc:\\Users\\Gian Luca Foresti\\Desktop\\Materiale Uni\\5 - anno\\CI\\Lab9\\lab9.ipynb Cell 6\u001b[0m line \u001b[0;36m1\n\u001b[0;32m    <a href='vscode-notebook-cell:/c%3A/Users/Gian%20Luca%20Foresti/Desktop/Materiale%20Uni/5%20-%20anno/CI/Lab9/lab9.ipynb#W5sZmlsZQ%3D%3D?line=125'>126</a>\u001b[0m     num_children \u001b[39m=\u001b[39m population_size\u001b[39m-\u001b[39mmu\n\u001b[0;32m    <a href='vscode-notebook-cell:/c%3A/Users/Gian%20Luca%20Foresti/Desktop/Materiale%20Uni/5%20-%20anno/CI/Lab9/lab9.ipynb#W5sZmlsZQ%3D%3D?line=127'>128</a>\u001b[0m parents \u001b[39m=\u001b[39m np\u001b[39m.\u001b[39mrandom\u001b[39m.\u001b[39mchoice(\u001b[39mself\u001b[39m\u001b[39m.\u001b[39magents, num_children)\n\u001b[1;32m--> <a href='vscode-notebook-cell:/c%3A/Users/Gian%20Luca%20Foresti/Desktop/Materiale%20Uni/5%20-%20anno/CI/Lab9/lab9.ipynb#W5sZmlsZQ%3D%3D?line=128'>129</a>\u001b[0m children \u001b[39m=\u001b[39m np\u001b[39m.\u001b[39marray([\u001b[39mself\u001b[39;49m\u001b[39m.\u001b[39;49mmutate(a, p) \u001b[39mfor\u001b[39;00m a \u001b[39min\u001b[39;00m parents])\n\u001b[0;32m    <a href='vscode-notebook-cell:/c%3A/Users/Gian%20Luca%20Foresti/Desktop/Materiale%20Uni/5%20-%20anno/CI/Lab9/lab9.ipynb#W5sZmlsZQ%3D%3D?line=129'>130</a>\u001b[0m \u001b[39mif\u001b[39;00m strategy \u001b[39m==\u001b[39m \u001b[39m'\u001b[39m\u001b[39mcomma\u001b[39m\u001b[39m'\u001b[39m:\n\u001b[0;32m    <a href='vscode-notebook-cell:/c%3A/Users/Gian%20Luca%20Foresti/Desktop/Materiale%20Uni/5%20-%20anno/CI/Lab9/lab9.ipynb#W5sZmlsZQ%3D%3D?line=130'>131</a>\u001b[0m     \u001b[39mself\u001b[39m\u001b[39m.\u001b[39magents \u001b[39m=\u001b[39m children\n",
      "\u001b[1;32mc:\\Users\\Gian Luca Foresti\\Desktop\\Materiale Uni\\5 - anno\\CI\\Lab9\\lab9.ipynb Cell 6\u001b[0m line \u001b[0;36m9\n\u001b[0;32m     <a href='vscode-notebook-cell:/c%3A/Users/Gian%20Luca%20Foresti/Desktop/Materiale%20Uni/5%20-%20anno/CI/Lab9/lab9.ipynb#W5sZmlsZQ%3D%3D?line=87'>88</a>\u001b[0m     \u001b[39melse\u001b[39;00m:\n\u001b[0;32m     <a href='vscode-notebook-cell:/c%3A/Users/Gian%20Luca%20Foresti/Desktop/Materiale%20Uni/5%20-%20anno/CI/Lab9/lab9.ipynb#W5sZmlsZQ%3D%3D?line=88'>89</a>\u001b[0m         new_genome\u001b[39m.\u001b[39mappend(locus)\n\u001b[1;32m---> <a href='vscode-notebook-cell:/c%3A/Users/Gian%20Luca%20Foresti/Desktop/Materiale%20Uni/5%20-%20anno/CI/Lab9/lab9.ipynb#W5sZmlsZQ%3D%3D?line=89'>90</a>\u001b[0m \u001b[39mreturn\u001b[39;00m Agent(np\u001b[39m.\u001b[39marray(new_genome), np\u001b[39m.\u001b[39mrandom\u001b[39m.\u001b[39mnormal(agent\u001b[39m.\u001b[39;49mfitness, scale\u001b[39m=\u001b[39m\u001b[39mself\u001b[39m\u001b[39m.\u001b[39mnovelty_factor\u001b[39m/\u001b[39m(\u001b[39m1\u001b[39m\u001b[39m+\u001b[39magent\u001b[39m.\u001b[39mfitness)))\n",
      "\u001b[1;32mc:\\Users\\Gian Luca Foresti\\Desktop\\Materiale Uni\\5 - anno\\CI\\Lab9\\lab9.ipynb Cell 6\u001b[0m line \u001b[0;36m4\n\u001b[0;32m     <a href='vscode-notebook-cell:/c%3A/Users/Gian%20Luca%20Foresti/Desktop/Materiale%20Uni/5%20-%20anno/CI/Lab9/lab9.ipynb#W5sZmlsZQ%3D%3D?line=40'>41</a>\u001b[0m \u001b[39m@genome\u001b[39m\u001b[39m.\u001b[39msetter\n\u001b[0;32m     <a href='vscode-notebook-cell:/c%3A/Users/Gian%20Luca%20Foresti/Desktop/Materiale%20Uni/5%20-%20anno/CI/Lab9/lab9.ipynb#W5sZmlsZQ%3D%3D?line=41'>42</a>\u001b[0m \u001b[39mdef\u001b[39;00m \u001b[39mgenome\u001b[39m(\u001b[39mself\u001b[39m, p):\n\u001b[0;32m     <a href='vscode-notebook-cell:/c%3A/Users/Gian%20Luca%20Foresti/Desktop/Materiale%20Uni/5%20-%20anno/CI/Lab9/lab9.ipynb#W5sZmlsZQ%3D%3D?line=42'>43</a>\u001b[0m     \u001b[39mself\u001b[39m\u001b[39m.\u001b[39m_genome \u001b[39m=\u001b[39m p\n\u001b[1;32m---> <a href='vscode-notebook-cell:/c%3A/Users/Gian%20Luca%20Foresti/Desktop/Materiale%20Uni/5%20-%20anno/CI/Lab9/lab9.ipynb#W5sZmlsZQ%3D%3D?line=44'>45</a>\u001b[0m \u001b[39m@property\u001b[39m\n\u001b[0;32m     <a href='vscode-notebook-cell:/c%3A/Users/Gian%20Luca%20Foresti/Desktop/Materiale%20Uni/5%20-%20anno/CI/Lab9/lab9.ipynb#W5sZmlsZQ%3D%3D?line=45'>46</a>\u001b[0m \u001b[39mdef\u001b[39;00m \u001b[39mfitness\u001b[39m(\u001b[39mself\u001b[39m):\n\u001b[0;32m     <a href='vscode-notebook-cell:/c%3A/Users/Gian%20Luca%20Foresti/Desktop/Materiale%20Uni/5%20-%20anno/CI/Lab9/lab9.ipynb#W5sZmlsZQ%3D%3D?line=46'>47</a>\u001b[0m     \u001b[39mreturn\u001b[39;00m \u001b[39mself\u001b[39m\u001b[39m.\u001b[39m_fitness\n\u001b[0;32m     <a href='vscode-notebook-cell:/c%3A/Users/Gian%20Luca%20Foresti/Desktop/Materiale%20Uni/5%20-%20anno/CI/Lab9/lab9.ipynb#W5sZmlsZQ%3D%3D?line=48'>49</a>\u001b[0m \u001b[39m@fitness\u001b[39m\u001b[39m.\u001b[39msetter\n\u001b[0;32m     <a href='vscode-notebook-cell:/c%3A/Users/Gian%20Luca%20Foresti/Desktop/Materiale%20Uni/5%20-%20anno/CI/Lab9/lab9.ipynb#W5sZmlsZQ%3D%3D?line=49'>50</a>\u001b[0m \u001b[39mdef\u001b[39;00m \u001b[39mfitness\u001b[39m(\u001b[39mself\u001b[39m, fitness: \u001b[39mfloat\u001b[39m):\n",
      "\u001b[1;31mKeyboardInterrupt\u001b[0m: "
     ]
    }
   ],
   "source": [
    "fitness = lab9_lib.make_problem(5)\n",
    "et = EvolutionTask(fitness, period_true_fitness=1)\n",
    "et.es(n_generations=1000, mu=30, population_size=100, strategy='plus')\n",
    "et.plot_fitness()\n",
    "print(et.best_fitness, fitness.calls)"
   ]
  },
  {
   "cell_type": "code",
   "execution_count": null,
   "metadata": {},
   "outputs": [
    {
     "name": "stderr",
     "output_type": "stream",
     "text": [
      "  0%|          | 0/100 [00:00<?, ?it/s]"
     ]
    },
    {
     "name": "stderr",
     "output_type": "stream",
     "text": [
      "100%|██████████| 100/100 [01:21<00:00,  1.22it/s]\n"
     ]
    },
    {
     "name": "stdout",
     "output_type": "stream",
     "text": [
      "0.586 101000\n"
     ]
    },
    {
     "data": {
      "image/png": "[encoded data removed]",
      "text/plain": [
       "<Figure size 640x480 with 1 Axes>"
      ]
     },
     "metadata": {},
     "output_type": "display_data"
    }
   ],
   "source": [
    "fitness = lab9_lib.make_problem(1)\n",
    "et = EvolutionTask(fitness, period_true_fitness=1)\n",
    "et.genetic_algorithm(n_generations=100, mu=30, population_size=1000, strategy='plus')\n",
    "et.plot_fitness()\n",
    "print(et.best_fitness, fitness.calls)"
   ]
  },
  {
   "cell_type": "code",
   "execution_count": 319,
   "metadata": {},
   "outputs": [
    {
     "name": "stderr",
     "output_type": "stream",
     "text": [
      "100%|██████████| 2000/2000 [08:04<00:00,  4.13it/s]\n"
     ]
    },
    {
     "name": "stdout",
     "output_type": "stream",
     "text": [
      "0.97 600300\n"
     ]
    },
    {
     "data": {
      "image/png": "[encoded data removed]",
      "text/plain": [
       "<Figure size 640x480 with 1 Axes>"
      ]
     },
     "metadata": {},
     "output_type": "display_data"
    }
   ],
   "source": [
    "fitness = lab9_lib.make_problem(2)\n",
    "et = EvolutionTask(fitness, period_true_fitness=1)\n",
    "et.island_model(n_generations=2000, n_islands=3, mu_island=30, migration_size=10, island_size=100, strategy='plus', hierarchical=True, migration_period=2, mode='es')\n",
    "et.plot_fitness()\n",
    "print(et.best_fitness, fitness.calls)"
   ]
  }
 ],
 "metadata": {
  "kernelspec": {
   "display_name": "ci-fLJ3OwGs-py3.12",
   "language": "python",
   "name": "python3"
  },
  "language_info": {
   "codemirror_mode": {
    "name": "ipython",
    "version": 3
   },
   "file_extension": ".py",
   "mimetype": "text/x-python",
   "name": "python",
   "nbconvert_exporter": "python",
   "pygments_lexer": "ipython3",
   "version": "3.10.5"
  }
 },
 "nbformat": 4,
 "nbformat_minor": 2
}
