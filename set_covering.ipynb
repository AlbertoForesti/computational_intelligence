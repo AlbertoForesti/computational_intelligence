{
 "cells": [
  {
   "cell_type": "code",
   "execution_count": 1,
   "metadata": {},
   "outputs": [],
   "source": [
    "from search import BaseState\n",
    "from typing import Optional, Hashable\n",
    "\n",
    "class State(BaseState):\n",
    "\n",
    "    @staticmethod\n",
    "    def get_start_state(universe: set[Hashable], subsets: list[set[Hashable]]) -> 'State':\n",
    "        collection: tuple[bool] = tuple([False for i in range(len(subsets))])\n",
    "        return State(universe, subsets, collection)\n",
    "\n",
    "    def __init__(self, universe: set[Hashable], subsets: list[set[Hashable]], collection: tuple[bool], parent: Optional['State'] = None, level: int = 0) -> None:\n",
    "        self.parent: Optional['State'] = parent\n",
    "        self.subsets: list[set[Hashable]] = subsets\n",
    "        self.universe: set[Hashable] = universe\n",
    "        self.collection: tuple[bool] = collection\n",
    "        self.level: int = level\n",
    "    \n",
    "    def __hash__(self) -> int:\n",
    "        return hash(self.collection)\n",
    "\n",
    "    def __repr__(self) -> str:\n",
    "        return str(self.collection)\n",
    "    \n",
    "    def explore(self) -> list['State']:\n",
    "        children: list['State'] = []\n",
    "        new_collection: list[bool] = list(self.collection)\n",
    "        for i in range(self.level, len(self.collection)):\n",
    "            new_collection[i] = True\n",
    "            children.append(State(self.universe, self.subsets, tuple(new_collection), self, self.level+1))\n",
    "            new_collection[i] = False\n",
    "        return children\n",
    "\n",
    "def f_evaluate(s1: State, s2: State) -> bool:\n",
    "\n",
    "    length_collection1 : int = len([a for a in s1.collection if a])\n",
    "    length_collection2 : int = len([a for a in s2.collection if a])\n",
    "\n",
    "    return length_collection1 >= length_collection2\n",
    "\n",
    "def f_goal(s: State):\n",
    "    union = set()\n",
    "    print(s)\n",
    "    for i, subset in enumerate(s.subsets):\n",
    "        if s.collection[i]:\n",
    "            union = union | subset\n",
    "    return union == s.universe\n"
   ]
  },
  {
   "cell_type": "code",
   "execution_count": 4,
   "metadata": {},
   "outputs": [
    {
     "name": "stdout",
     "output_type": "stream",
     "text": [
      "(False, False, False, False, False)\n",
      "(True, False, False, False, False)\n",
      "(False, True, False, False, False)\n",
      "(False, False, True, False, False)\n",
      "(False, False, False, True, False)\n",
      "(False, False, False, False, True)\n",
      "(True, True, False, False, False)\n",
      "(True, False, True, False, False)\n",
      "(True, False, False, True, False)\n",
      "(True, False, False, False, True)\n",
      "(False, True, True, False, False)\n",
      "(False, True, False, True, False)\n",
      "(False, False, True, True, False)\n",
      "(False, True, False, False, True)\n",
      "(False, False, True, False, True)\n",
      "(False, False, False, True, True)\n",
      "(True, True, True, False, False)\n",
      "(True, True, False, True, False)\n",
      "(True, True, False, False, True)\n",
      "(True, False, True, True, False)\n",
      "(True, False, True, False, True)\n",
      "(True, False, False, True, True)\n",
      "(False, True, True, True, False)\n",
      "(False, True, True, False, True)\n",
      "(False, True, False, True, True)\n",
      "(False, False, True, True, True)\n",
      "(True, True, True, True, False)\n",
      "(True, True, True, False, True)\n",
      "(True, True, False, True, True)\n",
      "(True, False, True, True, True)\n",
      "(False, True, True, True, True)\n",
      "(True, True, True, True, True)\n"
     ]
    },
    {
     "data": {
      "text/plain": [
       "32"
      ]
     },
     "execution_count": 4,
     "metadata": {},
     "output_type": "execute_result"
    }
   ],
   "source": [
    "from search import Search\n",
    "\n",
    "s = Search()\n",
    "\n",
    "universe = {\"gatti\", \"cani\", \"cavalli\", \"bastoni\"}\n",
    "subsets = [{\"gatti\",\"cani\",\"cavalli\"}, {\"cavalli\",\"bastoni\"}, {\"bastoni\"}, {\"gatti\"}, {\"cavalli\"}]\n",
    "\n",
    "s.best_search(State.get_start_state(universe, subsets), f_evaluate, f_goal)\n",
    "s.num_visited_states"
   ]
  }
 ],
 "metadata": {
  "kernelspec": {
   "display_name": "Python 3",
   "language": "python",
   "name": "python3"
  },
  "language_info": {
   "codemirror_mode": {
    "name": "ipython",
    "version": 3
   },
   "file_extension": ".py",
   "mimetype": "text/x-python",
   "name": "python",
   "nbconvert_exporter": "python",
   "pygments_lexer": "ipython3",
   "version": "3.10.5"
  }
 },
 "nbformat": 4,
 "nbformat_minor": 2
}
